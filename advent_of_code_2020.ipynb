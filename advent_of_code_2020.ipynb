{
 "cells": [
  {
   "cell_type": "markdown",
   "metadata": {},
   "source": [
    "# [Advent of Code 2020](https://adventofcode.com/2020)\n",
    "\n",
    "NB: Installer jupyter lab i venv, og start så med `venv/bin/jupyter lab`"
   ]
  },
  {
   "cell_type": "markdown",
   "metadata": {},
   "source": [
    "# --- Day 1: Report Repair ---"
   ]
  },
  {
   "cell_type": "code",
   "execution_count": 1,
   "metadata": {},
   "outputs": [
    {
     "data": {
      "text/plain": [
       "array([1837., 1585., 1894., 1715., 1947., 1603., 1746., 1911., 1939.,\n",
       "       1791., 1800., 1479., 1138., 1810., 1931., 1833., 1470., 1882.,\n",
       "       1725., 1496., 1890., 1862., 1990., 1958., 1997., 1844., 1524.,\n",
       "        541., 2001., 1591., 1687., 1941., 1940., 1561., 1813., 1654.,\n",
       "       1500., 1575., 1826., 2006.,  679., 1660., 1679., 1631., 2008.,\n",
       "        575., 1583., 1883., 1904., 1436., 1650., 1532., 1907., 1803.,\n",
       "       1693., 1700.,  359., 1516., 1625., 1908., 1994., 1910., 1644.,\n",
       "       1706., 1781., 1639., 1662., 1712., 1796., 1915., 1550., 1721.,\n",
       "       1697., 1917., 1665., 1646., 1968., 1881., 1893., 1468., 1678.,\n",
       "       1774.,  285., 1754., 1856., 1677., 1823., 1802., 1681., 1587.,\n",
       "       1767., 1711., 1900., 1983., 1787., 1996., 1726., 1982., 1971.,\n",
       "       1553., 1542., 1863., 2002., 1831., 1891., 1555., 2000., 1847.,\n",
       "       1783., 1873., 1761., 1742., 1534., 1993., 1898., 1973., 1974.,\n",
       "       1597., 1540., 1581., 1864., 1452., 1637., 1649., 1886., 1965.,\n",
       "       1460., 1664., 1701., 1647., 1812., 1937., 1902., 2004., 1991.,\n",
       "       1718., 1887., 1606., 1748., 1737., 1608., 1641., 1710., 1724.,\n",
       "        705., 1985., 1571., 1805.,  131., 1788., 1707., 1513., 1615.,\n",
       "       1897., 1476., 1927., 1745., 1926., 1839., 1807., 1955., 1692.,\n",
       "       1645., 1699., 1471., 1604., 1830., 1622., 1972., 1866., 1814.,\n",
       "       1816., 1855., 1820., 1034., 1673., 1704., 1969., 1580., 1980.,\n",
       "       1739., 1896.,  434.,  497., 1851., 1933.,  458., 1521., 1551.,\n",
       "       1762., 2010., 1614., 1840., 1747., 1875., 1836., 1895., 1518.,\n",
       "       1825., 1987.])"
      ]
     },
     "execution_count": 1,
     "metadata": {},
     "output_type": "execute_result"
    }
   ],
   "source": [
    "import numpy as np\n",
    "f = np.loadtxt('data/advent_of_code_2020_day_1.txt')\n",
    "f"
   ]
  },
  {
   "cell_type": "code",
   "execution_count": 2,
   "metadata": {},
   "outputs": [
    {
     "name": "stdout",
     "output_type": "stream",
     "text": [
      "Part 1:  800139\n"
     ]
    }
   ],
   "source": [
    "for expense in f:\n",
    "    tmp_array = expense + f\n",
    "    if np.isin(2020, tmp_array) == True:\n",
    "        n1 = expense\n",
    "        n2 = f[np.where(tmp_array == 2020)]\n",
    "        break # Skip the second tmp_array,where n1 and n2 are reverse\n",
    "print ('Part 1: ', int(n1*n2))"
   ]
  },
  {
   "cell_type": "code",
   "execution_count": 3,
   "metadata": {},
   "outputs": [
    {
     "name": "stdout",
     "output_type": "stream",
     "text": [
      "Part 2:  59885340\n"
     ]
    }
   ],
   "source": [
    "finished=False\n",
    "for expense2 in f:\n",
    "    sum2 = expense2 + f\n",
    "    for expense3 in f:\n",
    "        sum3 = sum2 + expense3\n",
    "        if np.isin(2020, sum3) == True:\n",
    "            expense1 = f[np.where(sum3 == 2020)]\n",
    "            # Save variables here, not so easy to also break out of outer loop\n",
    "            n1=expense1\n",
    "            n2=expense2\n",
    "            n3=expense3\n",
    "            break\n",
    "print ('Part 2: ', int(n1*n2*n3))"
   ]
  },
  {
   "cell_type": "markdown",
   "metadata": {},
   "source": [
    "# --- Day 2: Password Philosophy ---"
   ]
  },
  {
   "cell_type": "code",
   "execution_count": 4,
   "metadata": {},
   "outputs": [
    {
     "data": {
      "text/plain": [
       "(666, 670)"
      ]
     },
     "execution_count": 4,
     "metadata": {},
     "output_type": "execute_result"
    }
   ],
   "source": [
    "import re\n",
    "with open(\"data/advent_of_code_2020_day_2.txt\", \"r\") as fp:\n",
    "    data = fp.readlines()\n",
    "\n",
    "p1 = p2 = 0\n",
    "for line in data:\n",
    "    m = re.match(r\"^([0-9]+)-([0-9]+) ([a-z]): ([a-z]+)\\n$\", line)\n",
    "    n1 = int(m.group(1))\n",
    "    n2 = int(m.group(2))\n",
    "    w = m.group(3)\n",
    "    pwd = m.group(4)   \n",
    "    if n1 <= pwd.count(w) <= n2:\n",
    "        p1 += 1\n",
    "    a = pwd[n1-1] == w\n",
    "    b = pwd[n2-1] == w\n",
    "    if (a and not b) or (not a and b): # XOR\n",
    "        p2 += 1\n",
    "p1, p2"
   ]
  },
  {
   "cell_type": "markdown",
   "metadata": {},
   "source": [
    "# --- Day 3: Toboggan Trajectory ---\n",
    "First create a comma-separated file from the input file where '.' is replaced with 0 and '#'  is replaced with 1:\n",
    "\n",
    "```\n",
    "sed 's/\\./0/g' advent_of_code_2020_day_3.txt > aoc_3.txt\n",
    "sed -i 's/#/1/g' aoc_3.txt\n",
    "sed -i 's/\\([01]\\)/\\1,/g' aoc_3.txt\n",
    "sed -i 's/,$//' aoc_3.txt\n",
    "```"
   ]
  },
  {
   "cell_type": "code",
   "execution_count": 5,
   "metadata": {},
   "outputs": [
    {
     "name": "stdout",
     "output_type": "stream",
     "text": [
      "(323, 31)\n"
     ]
    },
    {
     "data": {
      "text/plain": [
       "array([[0., 1., 0., ..., 0., 0., 0.],\n",
       "       [0., 1., 1., ..., 1., 0., 0.],\n",
       "       [1., 0., 0., ..., 0., 1., 0.],\n",
       "       ...,\n",
       "       [0., 1., 0., ..., 1., 1., 1.],\n",
       "       [0., 0., 1., ..., 0., 0., 1.],\n",
       "       [1., 0., 0., ..., 1., 0., 0.]])"
      ]
     },
     "execution_count": 5,
     "metadata": {},
     "output_type": "execute_result"
    }
   ],
   "source": [
    "import numpy as np\n",
    "slope = np.loadtxt('data/aoc_3.txt', delimiter=',')\n",
    "print(np.shape(slope))\n",
    "slope"
   ]
  },
  {
   "cell_type": "code",
   "execution_count": 6,
   "metadata": {},
   "outputs": [
    {
     "name": "stdout",
     "output_type": "stream",
     "text": [
      "Part 1:  280\n"
     ]
    }
   ],
   "source": [
    "r = c = 0  # start position for row and column\n",
    "tree = 0\n",
    "rmax, cmax = np.shape(slope)\n",
    "while r < rmax:\n",
    "    if c > cmax-1:  # since np.shape gives length\n",
    "        c -= cmax\n",
    "    if slope[r][c] == 1:\n",
    "        tree += 1\n",
    "    c += 3  # right 3\n",
    "    r += 1  # down 1\n",
    "print('Part 1: ', tree)"
   ]
  },
  {
   "cell_type": "code",
   "execution_count": 7,
   "metadata": {},
   "outputs": [
    {
     "name": "stdout",
     "output_type": "stream",
     "text": [
      "Part 2:\n"
     ]
    },
    {
     "data": {
      "text/plain": [
       "4355551200"
      ]
     },
     "execution_count": 7,
     "metadata": {},
     "output_type": "execute_result"
    }
   ],
   "source": [
    "# Part Two\n",
    "def get_trees(slope,right,down):\n",
    "    r = c = 0  # start position for row and column\n",
    "    tree = 0\n",
    "    rmax, cmax = np.shape(slope)\n",
    "    while r < rmax:\n",
    "        if c > cmax-1:  # since np.shape gives length\n",
    "            c -= cmax\n",
    "        if slope[r][c] == 1:\n",
    "            tree += 1\n",
    "        c += right\n",
    "        r += down\n",
    "    return tree\n",
    "print('Part 2:')\n",
    "get_trees(slope, 1, 1) * get_trees(slope, 3, 1) * get_trees(slope, 5, 1) *\\\n",
    "get_trees(slope, 7, 1) * get_trees(slope, 1, 2)"
   ]
  },
  {
   "cell_type": "markdown",
   "metadata": {},
   "source": [
    "# --- Day 4: Passport Processing ---\n",
    "(bad parsing of input data..)"
   ]
  },
  {
   "cell_type": "code",
   "execution_count": 8,
   "metadata": {},
   "outputs": [
    {
     "data": {
      "text/plain": [
       "'byr:1983,iyr:2017,pid:796082981,cid:129,eyr:2030,ecl:oth,hgt:182cm,'"
      ]
     },
     "execution_count": 8,
     "metadata": {},
     "output_type": "execute_result"
    }
   ],
   "source": [
    "passport_list = []\n",
    "passport_data = \"\"\n",
    "with open('data/advent_of_code_2020_day_4.txt') as f:\n",
    "    for line in f:\n",
    "        if line == '\\n': # Ok?\n",
    "            passport_list.append(passport_data)\n",
    "            passport_data =\"\"\n",
    "            continue\n",
    "        line=line.replace('\\n',',')\n",
    "        passport_data += line.replace(\" \", \",\")\n",
    "    passport_list.append(passport_data) # Also append last passport\n",
    "passport_list[0]"
   ]
  },
  {
   "cell_type": "code",
   "execution_count": 9,
   "metadata": {},
   "outputs": [
    {
     "data": {
      "text/plain": [
       "{'byr': '1983',\n",
       " 'iyr': '2017',\n",
       " 'pid': '796082981',\n",
       " 'cid': '129',\n",
       " 'eyr': '2030',\n",
       " 'ecl': 'oth',\n",
       " 'hgt': '182cm'}"
      ]
     },
     "execution_count": 9,
     "metadata": {},
     "output_type": "execute_result"
    }
   ],
   "source": [
    "# Convert to a list of dictionaries\n",
    "passport_list_dicts = []\n",
    "for x in passport_list:\n",
    "    d = {}\n",
    "    x = x[:-1] # Remove last comma\n",
    "    passport_fields = x.split(',')\n",
    "    for p in passport_fields:\n",
    "        field = p.split(':')\n",
    "        #print(field)\n",
    "        d[field[0]] = field[1]\n",
    "    passport_list_dicts.append(d)\n",
    "passport_list_dicts[0]"
   ]
  },
  {
   "cell_type": "code",
   "execution_count": 10,
   "metadata": {},
   "outputs": [],
   "source": [
    "def validate_passport(passport_dict):\n",
    "    \"\"\"Return 1 if valid passport, else 0\"\"\"\n",
    "    valid=0\n",
    "    required_fields = (\"byr\", \"iyr\", \"eyr\", \"hgt\", \"hcl\", \"ecl\", \"pid\")\n",
    "    def valid_byr(x):\n",
    "        if len(x) == 4:\n",
    "            return (int(x) >= 1920) and (int(x) <= 2002)\n",
    "        else:\n",
    "            return False\n",
    "    def valid_iyr(x):\n",
    "        if len(x) == 4:\n",
    "            return (int(x) >= 2010) and (int(x) <= 2020)\n",
    "        else:\n",
    "            return False\n",
    "    def valid_eyr(x):\n",
    "        if len(x) == 4:\n",
    "            return (int(x) >= 2020) and (int(x) <= 2030)\n",
    "        else:\n",
    "            return False\n",
    "    def valid_hgt(x):\n",
    "        h = x[:-2]\n",
    "        if x[-2:] not in ('cm', 'in'):\n",
    "            return False\n",
    "        if x[-2:]=='cm':\n",
    "            return (int(h)>=150) and (int(h)<=193)\n",
    "        else:\n",
    "            return (int(h)>=59) and (int(h)<=76)\n",
    "    def valid_hcl(x):\n",
    "        if x.startswith('#') and len(x)==7:\n",
    "            for i in x[1:]:\n",
    "                if i not in(\"a\",\"b\", \"c\", \"d\", \"e\", \"f\", \"0\", \"1\", \"2\", \"3\", \"4\", \"5\", \"6\", \"7\", \"8\", \"9\"):\n",
    "                    return False\n",
    "            return True\n",
    "        else:\n",
    "            return False\n",
    "    def valid_ecl(x):\n",
    "        if x in (\"amb\", \"blu\", \"brn\", \"gry\", \"grn\", \"hzl\", \"oth\"):\n",
    "            return True\n",
    "        else:\n",
    "            return False\n",
    "    def valid_pid(x):\n",
    "        if len(x) == 9 and x.isdigit():\n",
    "            return True\n",
    "        else:\n",
    "            return False   \n",
    "    p = passport_dict    \n",
    "    if all (k in passport_dict for k in required_fields):\n",
    "        if valid_byr(p['byr']) and valid_iyr(p['iyr']) \\\n",
    "        and valid_eyr(p['eyr']) and valid_hgt(p['hgt']) \\\n",
    "        and valid_hcl(p['hcl']) and valid_ecl(p['ecl']) \\\n",
    "        and valid_pid(p['pid']):\n",
    "            valid=1\n",
    "    return valid"
   ]
  },
  {
   "cell_type": "code",
   "execution_count": 11,
   "metadata": {},
   "outputs": [
    {
     "name": "stdout",
     "output_type": "stream",
     "text": [
      "Number of valid passports: 188\n"
     ]
    }
   ],
   "source": [
    "# Check all passports\n",
    "n_valid_passports = 0\n",
    "for passport in passport_list_dicts:\n",
    "    #print(passport)\n",
    "    if validate_passport(passport):\n",
    "        n_valid_passports +=1       \n",
    "print(\"Number of valid passports: {}\".format(n_valid_passports))"
   ]
  },
  {
   "cell_type": "markdown",
   "metadata": {},
   "source": [
    "# --- Day 5: Binary Boarding ---"
   ]
  },
  {
   "cell_type": "code",
   "execution_count": 12,
   "metadata": {},
   "outputs": [],
   "source": [
    "with open(\"data/advent_of_code_2020_day_5.txt\", \"r\") as f:\n",
    "    data = f.read().split('\\n')[:-1]\n",
    "#data"
   ]
  },
  {
   "cell_type": "code",
   "execution_count": 13,
   "metadata": {},
   "outputs": [
    {
     "name": "stdout",
     "output_type": "stream",
     "text": [
      "Part 1:  822.0\n"
     ]
    }
   ],
   "source": [
    "def get_seat_id(seat):\n",
    "    row = (0, 128)\n",
    "    col = (0, 8)\n",
    "    for s in seat:\n",
    "        if s == 'F':\n",
    "            row = (row[0], row[0]+(row[1]-row[0])/2)\n",
    "        elif s == 'B':\n",
    "            row = (row[0]+(row[1]-row[0])/2, row[1])\n",
    "        elif s == 'L':\n",
    "            col = (col[0], col[0]+(col[1]-col[0])/2)\n",
    "        elif s == 'R':\n",
    "            col = (col[0]+(col[1]-col[0])/2, col[1])\n",
    "    return row[0]*8 + col[0]    \n",
    "\n",
    "# get_seat_id('BBFFBBFRLL')\n",
    "seat_ids = [get_seat_id(seat) for seat in data]\n",
    "print('Part 1: ', max(seat_ids))"
   ]
  },
  {
   "cell_type": "code",
   "execution_count": 14,
   "metadata": {},
   "outputs": [
    {
     "data": {
      "text/plain": [
       "(array([  0, 692]),)"
      ]
     },
     "execution_count": 14,
     "metadata": {},
     "output_type": "execute_result"
    }
   ],
   "source": [
    "# Find where the difference between seat ids is different from 1\n",
    "sorted_ids = sorted(seat_ids)\n",
    "diff = sorted_ids-np.roll(sorted_ids, 1)\n",
    "idx = np.where(diff != 1)\n",
    "idx\n",
    "# Elements that roll beyond the last position are re-introduced at the first. \n",
    "# Hence, take the second index (see np.roll)"
   ]
  },
  {
   "cell_type": "code",
   "execution_count": 15,
   "metadata": {},
   "outputs": [
    {
     "data": {
      "text/plain": [
       "[704.0, 706.0]"
      ]
     },
     "execution_count": 15,
     "metadata": {},
     "output_type": "execute_result"
    }
   ],
   "source": [
    "sorted_ids[691:693]"
   ]
  },
  {
   "cell_type": "markdown",
   "metadata": {},
   "source": [
    "Part 2: The missing seat ID thus is 705"
   ]
  },
  {
   "cell_type": "markdown",
   "metadata": {},
   "source": [
    "# --- Day 6: Custom Customs ---"
   ]
  },
  {
   "cell_type": "code",
   "execution_count": 16,
   "metadata": {},
   "outputs": [
    {
     "data": {
      "text/plain": [
       "(6947, 3398)"
      ]
     },
     "execution_count": 16,
     "metadata": {},
     "output_type": "execute_result"
    }
   ],
   "source": [
    "with open('data/advent_of_code_2020_day_6.txt') as f:\n",
    "    answers = f.read().strip().split('\\n\\n')\n",
    "p1 = p2 = 0\n",
    "for a in answers:                            # 'mhqunico\\nmchio\\nhciwosm'\n",
    "    n_answers = len(a.split('\\n'))           # 3\n",
    "    all_answers = a.replace('\\n','')         # 'mhqunicomchiohciwosm'\n",
    "    unique_answers = set(list(all_answers))  # {'c','h','i','m','n','o','q','s','u','w'}\n",
    "    p1 += len(unique_answers)\n",
    "    for i in unique_answers:\n",
    "        if all_answers.count(i) == n_answers:\n",
    "            p2+=1\n",
    "p1, p2"
   ]
  },
  {
   "cell_type": "markdown",
   "metadata": {},
   "source": [
    "# --- Day 7: Handy Haversacks ---"
   ]
  },
  {
   "cell_type": "code",
   "execution_count": 17,
   "metadata": {},
   "outputs": [],
   "source": [
    "import networkx as nx\n",
    "import re\n",
    "\n",
    "def string_to_graph(G, s):\n",
    "    \"\"\"Note: G should be a directed graph\"\"\"\n",
    "    regex = re.compile('[^a-zA-Z ]')\n",
    "    s = re.sub('bags|bag', '', s)  # greedy!\n",
    "    main_node = s.split('contain')[0].strip()\n",
    "    leaf_nodes = s.split('contain')[1].split(',')\n",
    "    if \"no other\" in leaf_nodes[0]:\n",
    "        G.add_node(main_node)\n",
    "    else:\n",
    "        for node in leaf_nodes:\n",
    "            n=int(re.findall(r'\\d+', node)[0])\n",
    "            leaf_node = regex.sub('', node).strip()\n",
    "            G.add_edge(main_node, leaf_node, n_bags=n)\n",
    "            \n",
    "def get_root_nodes(list_bag_info):\n",
    "    root_nodes = []\n",
    "    for s in list_bag_info:\n",
    "        s = re.sub('bags|bag', '', s)\n",
    "        main_node = s.split('contain')[0].strip()\n",
    "        root_nodes.append(main_node)\n",
    "    return root_nodes"
   ]
  },
  {
   "cell_type": "code",
   "execution_count": 18,
   "metadata": {},
   "outputs": [],
   "source": [
    "with open('data/advent_of_code_2020_day_7.txt') as f:\n",
    "    bag_info = f.read().split('\\n')[:-1]\n",
    "#bag_info"
   ]
  },
  {
   "cell_type": "code",
   "execution_count": 19,
   "metadata": {},
   "outputs": [],
   "source": [
    "G = nx.DiGraph()\n",
    "for b in bag_info:\n",
    "    string_to_graph(G, b)"
   ]
  },
  {
   "cell_type": "code",
   "execution_count": 20,
   "metadata": {},
   "outputs": [],
   "source": [
    "root_nodes = get_root_nodes(bag_info)\n",
    "root_nodes.remove('shiny gold')\n",
    "#root_nodes"
   ]
  },
  {
   "cell_type": "code",
   "execution_count": 21,
   "metadata": {},
   "outputs": [
    {
     "name": "stdout",
     "output_type": "stream",
     "text": [
      "Part 1:  261\n"
     ]
    }
   ],
   "source": [
    "p1 = 0\n",
    "for bag in root_nodes:\n",
    "    if nx.has_path(G, bag, 'shiny gold'):\n",
    "        p1 +=1\n",
    "print('Part 1: ', p1)"
   ]
  },
  {
   "cell_type": "markdown",
   "metadata": {},
   "source": [
    "Oppgaven er å telle antall bager som shiny gold må inneholde.\n",
    "Starter med å gi inn rotnoden og en counter (starter på 0)\n",
    "Dersom vi er på en bladnode skal funksjonen returnere 1.\n",
    "For hvert barn henter man ut en multiplier som tilsvarer antall bager parenten består av.\n",
    "Summen til barnet er da denne multiplieren ganger et rekursivt funksjonskall.\n",
    "Dette legges så til totalsummen.\n",
    "Man må også ta med antall bager parenten består av. Dette skal bare gjøres dersom det ikke er en bladnode (for å unngå dobbelttelling)"
   ]
  },
  {
   "cell_type": "code",
   "execution_count": 22,
   "metadata": {},
   "outputs": [
    {
     "name": "stdout",
     "output_type": "stream",
     "text": [
      "Part 2:  3765\n"
     ]
    }
   ],
   "source": [
    "def calc_bags(G, parent, count):\n",
    "    if G.out_degree(parent) == 0: # Leaf node\n",
    "        return 1\n",
    "    for child in dict(G[parent]):\n",
    "        n_child = len(dict(G[parent]))\n",
    "        multiplier = G.edges[parent, child]['n_bags']\n",
    "        child_sum = multiplier*calc_bags(G, child, 0)\n",
    "        count += child_sum\n",
    "        if G.out_degree(child) != 0: # Not leaf node\n",
    "            count+=multiplier\n",
    "    return count\n",
    "print('Part 2: ', calc_bags(G, 'shiny gold', 0))"
   ]
  },
  {
   "cell_type": "markdown",
   "metadata": {},
   "source": [
    "# --- Day 8: Handheld Halting ---"
   ]
  },
  {
   "cell_type": "code",
   "execution_count": 23,
   "metadata": {},
   "outputs": [
    {
     "name": "stdout",
     "output_type": "stream",
     "text": [
      "601\n"
     ]
    }
   ],
   "source": [
    "import re\n",
    "with open(\"data/advent_of_code_2020_day_8.txt\", \"r\") as fp:\n",
    "    data = fp.readlines()\n",
    "print(len(data))\n",
    "#data"
   ]
  },
  {
   "cell_type": "code",
   "execution_count": 24,
   "metadata": {},
   "outputs": [],
   "source": [
    "accumulator = 0\n",
    "operation = []\n",
    "number = []\n",
    "for i, line in enumerate(data):\n",
    "    m = re.match(r\"(.*) (.*)\\n$\", line)\n",
    "    operation.append(str(m.group(1)))\n",
    "    number.append(int(m.group(2)))"
   ]
  },
  {
   "cell_type": "code",
   "execution_count": 25,
   "metadata": {},
   "outputs": [
    {
     "name": "stdout",
     "output_type": "stream",
     "text": [
      "Part 1:  1489\n"
     ]
    }
   ],
   "source": [
    "accumulator = 0\n",
    "visited = np.zeros(len(data))\n",
    "i = 0 # Start position\n",
    "\n",
    "while 2 not in visited:\n",
    "    visited[i]+=1\n",
    "    if visited[i] == 2:\n",
    "        break\n",
    "    op = operation[i]\n",
    "    n = number[i]\n",
    "    if op == 'nop':\n",
    "        i += 1\n",
    "        #continue\n",
    "    elif op == 'acc':\n",
    "        accumulator += n\n",
    "        i +=1\n",
    "    elif op == 'jmp':\n",
    "        i = i+n\n",
    "print('Part 1: ', accumulator)"
   ]
  },
  {
   "cell_type": "code",
   "execution_count": 26,
   "metadata": {},
   "outputs": [
    {
     "data": {
      "text/plain": [
       "False"
      ]
     },
     "execution_count": 26,
     "metadata": {},
     "output_type": "execute_result"
    }
   ],
   "source": [
    "#Part 2\n",
    "def check_finished(operation, number):\n",
    "    \"\"\"Return value of accumulator if instructions manage to finish, else False\"\"\"\n",
    "    accumulator = 0\n",
    "    visited = np.zeros(len(data))\n",
    "    i = 0\n",
    "    while i > len(operation) or 2 not in visited:\n",
    "        if i == len(operation):\n",
    "                return accumulator\n",
    "        visited[i]+=1\n",
    "        if visited[i] == 2:\n",
    "            return False\n",
    "        op = operation[i]\n",
    "        n = number[i]\n",
    "        if op == 'jmp' and n == 0:\n",
    "            return False\n",
    "        if op == 'nop':\n",
    "            i += 1\n",
    "            if i > len(operation):\n",
    "                return accumulator\n",
    "        elif op == 'acc':\n",
    "            accumulator += n\n",
    "            i +=1\n",
    "            if i > len(operation):\n",
    "                return accumulator\n",
    "        elif op == 'jmp':\n",
    "            i = i+n\n",
    "            if i > len(operation):\n",
    "                return accumulator\n",
    "#operation = ['nop', 'acc', 'jmp', 'acc', 'jmp', 'acc', 'acc', 'nop', 'acc']\n",
    "#number = [0, 1, 4, 3, -3, -99, 1, -4, 6]\n",
    "check_finished(operation, number)"
   ]
  },
  {
   "cell_type": "code",
   "execution_count": 27,
   "metadata": {},
   "outputs": [
    {
     "name": "stdout",
     "output_type": "stream",
     "text": [
      "Part 2:  1539\n"
     ]
    }
   ],
   "source": [
    "for i, value in enumerate(operation):\n",
    "    # Change nop to jmp\n",
    "    if value == 'nop':\n",
    "        operation[i] = 'jmp'\n",
    "        if check_finished(operation, number) is not False:\n",
    "            print('Part 2: ', check_finished(operation, number))\n",
    "            break\n",
    "        operation[i] = 'nop' # Change back\n",
    "    # Change jmp to nop\n",
    "    if value == 'jmp':\n",
    "        operation[i] = 'nop'\n",
    "        if check_finished(operation, number) is not False:\n",
    "            print('Part 2: ', check_finished(operation, number))\n",
    "            break\n",
    "        operation[i] = 'jmp' # Change back"
   ]
  },
  {
   "cell_type": "markdown",
   "metadata": {},
   "source": [
    "# --- Day 9: Encoding Error ---"
   ]
  },
  {
   "cell_type": "code",
   "execution_count": 28,
   "metadata": {},
   "outputs": [],
   "source": [
    "import numpy as np\n",
    "from functools import reduce\n",
    "from itertools import combinations, accumulate\n",
    "xmas=np.loadtxt(\"data/advent_of_code_2020_day_9.txt\")"
   ]
  },
  {
   "cell_type": "code",
   "execution_count": 29,
   "metadata": {},
   "outputs": [
    {
     "name": "stdout",
     "output_type": "stream",
     "text": [
      "Part 1:  776203571.0\n"
     ]
    }
   ],
   "source": [
    "# Part 1\n",
    "n = 25  # size of preamble (n=25 i oppgave)\n",
    "for i in range(n,len(xmas)+1):\n",
    "    available_sums = [sum(x) for x in combinations(xmas[i-n:i], 2) if x[0] != x[1]]\n",
    "    if xmas[i] in available_sums:\n",
    "        continue\n",
    "    else:\n",
    "        print('Part 1: ', xmas[i])\n",
    "        break"
   ]
  },
  {
   "cell_type": "code",
   "execution_count": 30,
   "metadata": {},
   "outputs": [
    {
     "name": "stdout",
     "output_type": "stream",
     "text": [
      "Part 2:  104800569.0\n"
     ]
    }
   ],
   "source": [
    "# Part 2.\n",
    "# Number from Part 1: 776203571\n",
    "# Hvilke sammenhengende tall i xmas summerer til dette?\n",
    "part1 = 776203571  #127 in test\n",
    "stop_outer_loop = False\n",
    "for window_size in range(2, len(xmas)):\n",
    "    n = window_size\n",
    "    if stop_outer_loop:\n",
    "        break\n",
    "    for i in range(n,len(xmas)+1):\n",
    "        available_sums = [x for x in accumulate(xmas[i-n:i])][1:]  \n",
    "        # Skip the first acc in available sums, only one number\n",
    "        if part1 not in available_sums:\n",
    "            continue\n",
    "        else:\n",
    "            valid_combo = xmas[i-n:i]\n",
    "            stop_outer_loop = True  #Andre måter å breake ut av ytre loop?\n",
    "            break\n",
    "print('Part 2: ', min(valid_combo)+max(valid_combo))"
   ]
  },
  {
   "cell_type": "markdown",
   "metadata": {},
   "source": [
    "# --- Day 10: Adapter Array ---"
   ]
  },
  {
   "cell_type": "code",
   "execution_count": 31,
   "metadata": {},
   "outputs": [
    {
     "data": {
      "text/plain": [
       "array([  0.,   1.,   2.,   3.,   4.,   7.,   8.,   9.,  10.,  11.,  14.,\n",
       "        15.,  16.,  17.,  20.,  23.,  26.,  27.,  28.,  31.,  34.,  37.,\n",
       "        38.,  39.,  40.,  43.,  44.,  45.,  48.,  49.,  50.,  53.,  56.,\n",
       "        57.,  58.,  59.,  60.,  63.,  64.,  65.,  66.,  69.,  70.,  71.,\n",
       "        72.,  75.,  76.,  77.,  78.,  79.,  82.,  83.,  84.,  85.,  86.,\n",
       "        89.,  90.,  91.,  94.,  95.,  96.,  99., 100., 101., 102., 105.,\n",
       "       108., 109., 110., 111., 114., 115., 116., 119., 120., 121., 122.,\n",
       "       125., 128., 131., 132., 133., 134., 137., 138., 139., 142., 145.,\n",
       "       146., 149., 152., 153., 154., 155., 156., 159., 162., 163., 164.,\n",
       "       165., 166., 169., 172., 175., 178., 181., 184., 185., 186., 189.])"
      ]
     },
     "execution_count": 31,
     "metadata": {},
     "output_type": "execute_result"
    }
   ],
   "source": [
    "import numpy as np\n",
    "a=np.sort(np.loadtxt(\"data/advent_of_code_2020_day_10.txt\"))\n",
    "a = np.concatenate([[0], a, [a[-1]+3]])\n",
    "a"
   ]
  },
  {
   "cell_type": "code",
   "execution_count": 32,
   "metadata": {},
   "outputs": [
    {
     "data": {
      "text/plain": [
       "array([  0.,   0.,   1.,   2.,   3.,   4.,   7.,   8.,   9.,  10.,  11.,\n",
       "        14.,  15.,  16.,  17.,  20.,  23.,  26.,  27.,  28.,  31.,  34.,\n",
       "        37.,  38.,  39.,  40.,  43.,  44.,  45.,  48.,  49.,  50.,  53.,\n",
       "        56.,  57.,  58.,  59.,  60.,  63.,  64.,  65.,  66.,  69.,  70.,\n",
       "        71.,  72.,  75.,  76.,  77.,  78.,  79.,  82.,  83.,  84.,  85.,\n",
       "        86.,  89.,  90.,  91.,  94.,  95.,  96.,  99., 100., 101., 102.,\n",
       "       105., 108., 109., 110., 111., 114., 115., 116., 119., 120., 121.,\n",
       "       122., 125., 128., 131., 132., 133., 134., 137., 138., 139., 142.,\n",
       "       145., 146., 149., 152., 153., 154., 155., 156., 159., 162., 163.,\n",
       "       164., 165., 166., 169., 172., 175., 178., 181., 184., 185., 186.])"
      ]
     },
     "execution_count": 32,
     "metadata": {},
     "output_type": "execute_result"
    }
   ],
   "source": [
    "b = np.concatenate([[0],a])[:-1]\n",
    "b"
   ]
  },
  {
   "cell_type": "code",
   "execution_count": 33,
   "metadata": {},
   "outputs": [
    {
     "data": {
      "text/plain": [
       "array([0., 1., 1., 1., 1., 3., 1., 1., 1., 1., 3., 1., 1., 1., 3., 3., 3.,\n",
       "       1., 1., 3., 3., 3., 1., 1., 1., 3., 1., 1., 3., 1., 1., 3., 3., 1.,\n",
       "       1., 1., 1., 3., 1., 1., 1., 3., 1., 1., 1., 3., 1., 1., 1., 1., 3.,\n",
       "       1., 1., 1., 1., 3., 1., 1., 3., 1., 1., 3., 1., 1., 1., 3., 3., 1.,\n",
       "       1., 1., 3., 1., 1., 3., 1., 1., 1., 3., 3., 3., 1., 1., 1., 3., 1.,\n",
       "       1., 3., 3., 1., 3., 3., 1., 1., 1., 1., 3., 3., 1., 1., 1., 1., 3.,\n",
       "       3., 3., 3., 3., 3., 1., 1., 3.])"
      ]
     },
     "execution_count": 33,
     "metadata": {},
     "output_type": "execute_result"
    }
   ],
   "source": [
    "diff = a-b\n",
    "diff"
   ]
  },
  {
   "cell_type": "code",
   "execution_count": 34,
   "metadata": {},
   "outputs": [
    {
     "name": "stdout",
     "output_type": "stream",
     "text": [
      "Part 1:  2760\n"
     ]
    }
   ],
   "source": [
    "print(\"Part 1: \", (len(np.where(diff==1,)[0])) * (len(np.where(diff==3,)[0])))"
   ]
  },
  {
   "cell_type": "markdown",
   "metadata": {},
   "source": [
    "#### Part 2\n",
    "(fant bare en løsning som krever for mye minne)"
   ]
  },
  {
   "cell_type": "code",
   "execution_count": 35,
   "metadata": {},
   "outputs": [],
   "source": [
    "# Part 2, find the number of distinct ways to arrange the adapters\n",
    "m = np.stack([a, b, diff]).T\n",
    "\n",
    "valid_arrays1 = []\n",
    "for i in range(1,len(m)-2):\n",
    "    diff1 = m[i+1][0] - m[i][1]\n",
    "    diff2 = m[i+2][0] - m[i][1]\n",
    "    if diff1 <= 3:\n",
    "        valid_arrays1.append((np.delete(m, i, 0)[:,0]))\n",
    "    if diff2 <= 3:\n",
    "        valid_arrays1.append((np.delete(m, i+1, 0)[:,0]))\n",
    "unique_rows1 = np.unique(valid_arrays1, axis=0)\n",
    "#unique_rows1"
   ]
  },
  {
   "cell_type": "code",
   "execution_count": 36,
   "metadata": {},
   "outputs": [],
   "source": [
    "def create_array(a):\n",
    "    b = np.concatenate([[0],a])[:-1]\n",
    "    diff = a-b\n",
    "    return np.stack([a, b, diff]).T\n",
    "\n",
    "def create_new_unique_array(unique_rows):\n",
    "    valid_arrays = []\n",
    "    for u in unique_rows:\n",
    "        m = create_array(u)\n",
    "        for i in range(1,len(m)-2):\n",
    "            diff1 = m[i+1][0] - m[i][1]\n",
    "            diff2 = m[i+2][0] - m[i][1]\n",
    "            if diff1 <= 3:\n",
    "                valid_arrays.append((np.delete(m, i, 0)[:,0]))\n",
    "            if diff2 <= 3:\n",
    "                valid_arrays.append((np.delete(m, i+1, 0)[:,0]))\n",
    "    return np.unique(valid_arrays, axis=0)"
   ]
  },
  {
   "cell_type": "code",
   "execution_count": 37,
   "metadata": {},
   "outputs": [
    {
     "name": "stdout",
     "output_type": "stream",
     "text": [
      "45\n",
      "990\n",
      "14183\n",
      "148701\n",
      "---\n",
      "163920\n"
     ]
    }
   ],
   "source": [
    "unique_rows = unique_rows1\n",
    "print(len(unique_rows))\n",
    "foo = 0\n",
    "for k in range(3): # Sett høyt. Fungerer, men krever for mye minne, så fungerer ikke for Part 2\n",
    "    unique_rows = create_new_unique_array(unique_rows)\n",
    "    print(len(unique_rows))\n",
    "    foo += len(unique_rows)\n",
    "print(\"---\")\n",
    "print(1 + len(unique_rows1) + foo) "
   ]
  },
  {
   "cell_type": "markdown",
   "metadata": {},
   "source": [
    "# --- Day 12: Rain Risk ---"
   ]
  },
  {
   "cell_type": "code",
   "execution_count": 38,
   "metadata": {},
   "outputs": [],
   "source": [
    "import re\n",
    "import numpy as np\n",
    "with open(\"data/advent_of_code_2020_day_12.txt\", \"r\") as fp:\n",
    "    data = fp.readlines()\n",
    "operations = []\n",
    "numbers = []\n",
    "for i, line in enumerate(data):\n",
    "    m = re.match(r\"([A-Z]+)(\\d+)\\n$\", line)\n",
    "    operations.append(str(m.group(1)))\n",
    "    numbers.append(int(m.group(2)))"
   ]
  },
  {
   "cell_type": "code",
   "execution_count": 39,
   "metadata": {},
   "outputs": [
    {
     "name": "stdout",
     "output_type": "stream",
     "text": [
      "Part 1:  1010\n"
     ]
    }
   ],
   "source": [
    "# Part 1\n",
    "x = y = 0\n",
    "direction = 90 # Initial direction towards East\n",
    "for i in range(0, len(operations)):\n",
    "    operation = operations[i]\n",
    "    number = numbers[i]\n",
    "    if operation == 'E':\n",
    "        x += number\n",
    "    elif operation == 'W':\n",
    "        x -= number\n",
    "    elif operation == 'N':\n",
    "        y += number\n",
    "    elif operation == 'S':\n",
    "        y -= number\n",
    "    elif operation == 'R':\n",
    "        direction += number\n",
    "    elif operation == 'L':\n",
    "        direction -= number\n",
    "    elif operation == 'F':\n",
    "        if direction % 360 == 0: # N\n",
    "            y +=  number\n",
    "        elif direction % 360 == 90: #E\n",
    "            x += number\n",
    "        elif direction % 360 == 180: #S\n",
    "            y -= number\n",
    "        elif direction % 360 == 270: #W\n",
    "            x -= number\n",
    "print('Part 1: ', abs(x) + abs(y))"
   ]
  },
  {
   "cell_type": "code",
   "execution_count": 40,
   "metadata": {},
   "outputs": [
    {
     "name": "stdout",
     "output_type": "stream",
     "text": [
      "(166.0, 48.0)\n",
      "(174.0, 28.0)\n"
     ]
    }
   ],
   "source": [
    "# Part 2\n",
    "def rotate(origin, point, angle, direction):\n",
    "    \"\"\"Angle in radians\"\"\"\n",
    "    ox, oy = origin\n",
    "    px, py = point\n",
    "\n",
    "    if direction == \"L\":  #  Counter clockwise\n",
    "        qx = ox + np.cos(angle) * (px - ox) - np.sin(angle) * (py - oy)\n",
    "        qy = oy + np.sin(angle) * (px - ox) + np.cos(angle) * (py - oy)\n",
    "    else:  # R, clockwise\n",
    "        qx = ox + np.cos(angle) * (px - ox) + np.sin(angle) * (py - oy)\n",
    "        qy = oy - np.sin(angle) * (px - ox) + np.cos(angle) * (py - oy)\n",
    "    return qx, qy\n",
    "\n",
    "# Testing\n",
    "origin = (170,38)\n",
    "point = (170+10,38+4)\n",
    "angle = 90\n",
    "print(rotate(origin, point, np.deg2rad(angle), \"L\"))\n",
    "print(rotate(origin, point, np.deg2rad(angle), \"R\"))"
   ]
  },
  {
   "cell_type": "code",
   "execution_count": 41,
   "metadata": {},
   "outputs": [
    {
     "name": "stdout",
     "output_type": "stream",
     "text": [
      "Part 2:  52742.0\n"
     ]
    }
   ],
   "source": [
    "x = y = 0\n",
    "wx = 10  # Waypoint coordinate (relative to x)\n",
    "wy = 1  # Waypoint coordinate (relative to y)\n",
    "for i in range(0, len(operations)):\n",
    "    operation = operations[i]\n",
    "    number = numbers[i]\n",
    "    if operation == 'E':\n",
    "        wx += number       \n",
    "    elif operation == 'W':\n",
    "        wx -= number\n",
    "    elif operation == 'N':\n",
    "        wy += number\n",
    "    elif operation == 'S':\n",
    "        wy -= number\n",
    "    elif operation == 'R':\n",
    "        dx, dy = rotate((x, y), (x+wx, y+wy), np.deg2rad(number), \"R\")\n",
    "        wx = dx-x\n",
    "        wy = dy-y\n",
    "    elif operation == 'L':\n",
    "        dx, dy = rotate((x, y), (x+wx, y+wy), np.deg2rad(number), \"L\")\n",
    "        wx = dx-x\n",
    "        wy = dy-y\n",
    "    elif operation == 'F':\n",
    "        x += number*wx\n",
    "        y += number*wy\n",
    "print('Part 2: ', abs(x) + abs(y))"
   ]
  }
 ],
 "metadata": {
  "kernelspec": {
   "display_name": "Python 3",
   "language": "python",
   "name": "python3"
  },
  "language_info": {
   "codemirror_mode": {
    "name": "ipython",
    "version": 3
   },
   "file_extension": ".py",
   "mimetype": "text/x-python",
   "name": "python",
   "nbconvert_exporter": "python",
   "pygments_lexer": "ipython3",
   "version": "3.7.3"
  }
 },
 "nbformat": 4,
 "nbformat_minor": 4
}
