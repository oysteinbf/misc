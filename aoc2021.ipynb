{
 "cells": [
  {
   "cell_type": "markdown",
   "id": "athletic-austin",
   "metadata": {},
   "source": [
    "# [Advent of Code 2021](https://adventofcode.com/2021)\n",
    "\n",
    "NB: Installer jupyter lab i venv, og start så med `venv/bin/jupyter lab`"
   ]
  },
  {
   "cell_type": "code",
   "execution_count": 1,
   "id": "measured-efficiency",
   "metadata": {},
   "outputs": [],
   "source": [
    "import re\n",
    "import numpy as np\n",
    "import math\n",
    "from collections import Counter\n",
    "import itertools\n",
    "import collections\n",
    "\n",
    "#from itertools import tee\n",
    "#from itertools import chain\n",
    "#from functools import lru_cache"
   ]
  },
  {
   "cell_type": "markdown",
   "id": "wanted-trigger",
   "metadata": {},
   "source": [
    "# --- Day 1: Sonar Sweep ---"
   ]
  },
  {
   "cell_type": "code",
   "execution_count": 2,
   "id": "closing-child",
   "metadata": {},
   "outputs": [
    {
     "data": {
      "text/plain": [
       "[195, 197, 201, 204, 203, 216, 213, 215, 216, 185]"
      ]
     },
     "execution_count": 2,
     "metadata": {},
     "output_type": "execute_result"
    }
   ],
   "source": [
    "#puzzle_input = 'data/test.txt'\n",
    "puzzle_input = 'data/aoc2021_day1.txt'\n",
    "with open(puzzle_input) as f:\n",
    "    data = []\n",
    "    for line in f:\n",
    "        data.append(int(line))\n",
    "data[0:10]"
   ]
  },
  {
   "cell_type": "code",
   "execution_count": 3,
   "id": "cloudy-bidder",
   "metadata": {},
   "outputs": [
    {
     "name": "stdout",
     "output_type": "stream",
     "text": [
      "Part 1:  1624\n"
     ]
    }
   ],
   "source": [
    "# How many measurements are larger than the previous measurement?\n",
    "p1 = sum([1 if data[x+1] > data[x] else 0 for x in range(len(data)-1)])\n",
    "print('Part 1: ', p1)"
   ]
  },
  {
   "cell_type": "code",
   "execution_count": 4,
   "id": "manufactured-guide",
   "metadata": {},
   "outputs": [
    {
     "data": {
      "text/plain": [
       "[593, 602, 608, 623, 632, 644, 644, 616, 589, 563]"
      ]
     },
     "execution_count": 4,
     "metadata": {},
     "output_type": "execute_result"
    }
   ],
   "source": [
    "# three-measurement sliding window\n",
    "sw = [data[x] + data[x+1] + data[x+2] for x in range(len(data)-2)]\n",
    "sw[0:10]"
   ]
  },
  {
   "cell_type": "code",
   "execution_count": 5,
   "id": "alternate-neutral",
   "metadata": {},
   "outputs": [
    {
     "name": "stdout",
     "output_type": "stream",
     "text": [
      "Part 2:  1653\n"
     ]
    }
   ],
   "source": [
    "p2 = sum([1 if sw[x+1] > sw[x] else 0 for x in range(len(sw)-1)])\n",
    "print('Part 2: ', p2)"
   ]
  },
  {
   "cell_type": "markdown",
   "id": "acquired-survivor",
   "metadata": {},
   "source": [
    "# --- Day 2: Dive! ---\n",
    "\n",
    "```\n",
    "forward 5\n",
    "down 5\n",
    "forward 8\n",
    "up 3\n",
    "down 8\n",
    "forward 2\n",
    "```"
   ]
  },
  {
   "cell_type": "code",
   "execution_count": 6,
   "id": "occupational-theme",
   "metadata": {},
   "outputs": [
    {
     "name": "stdout",
     "output_type": "stream",
     "text": [
      "Part 1:  1990000\n"
     ]
    }
   ],
   "source": [
    "puzzle_input = 'data/aoc2021_day2.txt'\n",
    "course = []\n",
    "with open(puzzle_input) as f:\n",
    "    for line in f:\n",
    "        forward = up = down = 0\n",
    "        m = re.search(r\"([a-z]+) (\\d+)$\", line)\n",
    "        if m.group(1) == 'forward':\n",
    "            forward = int(m.group(2))\n",
    "        elif m.group(1) == 'up':\n",
    "            up = int(m.group(2))\n",
    "        elif m.group(1) == 'down':\n",
    "            down = int(m.group(2))\n",
    "        direction = (forward, up, down)\n",
    "        course.append(direction) # [(5, 0, 0), (0, 0, 5), ...]\n",
    "\n",
    "sum_forward = sum(forward for forward, up, down in course)\n",
    "sum_up = sum(up for forward, up, down in course)\n",
    "sum_down = sum(down for forward, up, down in course)\n",
    "\n",
    "p1 = sum_forward * (sum_down - sum_up)\n",
    "print('Part 1: ', p1)"
   ]
  },
  {
   "cell_type": "code",
   "execution_count": 7,
   "id": "handed-letter",
   "metadata": {},
   "outputs": [
    {
     "name": "stdout",
     "output_type": "stream",
     "text": [
      "Part 2:  1975421260\n"
     ]
    }
   ],
   "source": [
    "forward = depth = aim = 0\n",
    "for x in course:\n",
    "    if x[0]>0:\n",
    "        forward += x[0]\n",
    "        depth += aim * x[0]\n",
    "    elif x[1]>0:\n",
    "        aim -= x[1]\n",
    "    elif x[2]>0:\n",
    "        aim += x[2]\n",
    "    # print(forward, depth, aim)\n",
    "p2 = forward * depth\n",
    "print('Part 2: ', p2)"
   ]
  },
  {
   "cell_type": "markdown",
   "id": "subsequent-conjunction",
   "metadata": {},
   "source": [
    "# --- Day 3: Binary Diagnostic ---\n",
    "\n",
    "```\n",
    "00100\n",
    "11110\n",
    "10110\n",
    "10111\n",
    "10101\n",
    "01111\n",
    "00111\n",
    "11100\n",
    "10000\n",
    "11001\n",
    "00010\n",
    "01010\n",
    "```"
   ]
  },
  {
   "cell_type": "code",
   "execution_count": 8,
   "id": "curious-technique",
   "metadata": {},
   "outputs": [
    {
     "name": "stdout",
     "output_type": "stream",
     "text": [
      "Part 1:  1131506\n"
     ]
    }
   ],
   "source": [
    "d = np.genfromtxt('data/aoc2021_day3.txt', dtype=int, delimiter=1)\n",
    "gamma = epsilon = ''\n",
    "for x in range(0,np.shape(d)[1]):\n",
    "    c = Counter(d[:,x])\n",
    "    gamma += str(c.most_common(1)[0][0]) #Most common\n",
    "    epsilon += str(c.most_common(2)[1][0]) #Least common\n",
    "p1 = int(gamma,2) * int(epsilon,2)\n",
    "print('Part 1: ', p1)"
   ]
  },
  {
   "cell_type": "code",
   "execution_count": 9,
   "id": "cardiovascular-glossary",
   "metadata": {},
   "outputs": [],
   "source": [
    "def bit_count(col):\n",
    "    \"\"\"Find the most common bit value in an array (either 0 or 1)\"\"\"\n",
    "    if np.sum(col) / len(col) >= 0.5:\n",
    "        return 1\n",
    "    else:\n",
    "        return 0\n",
    "    \n",
    "def new_rows(rows, col_idx, bit_criteria):\n",
    "    \"\"\"\n",
    "    Find new rows that match the bit criteria\n",
    "    \n",
    "    :param rows: two dimensional array\n",
    "    :param col_idx: which column of the array to consider\n",
    "    :param bit_criteria: 'most' for O2 rating, 'least' for CO2 scrubber rating\n",
    "    :return: a new two dimensional array\n",
    "    \"\"\"\n",
    "    keep_row = []\n",
    "    most_common_bit = bit_count(rows[:,col_idx])\n",
    "    if bit_criteria == 'most':\n",
    "        bit_value = most_common_bit\n",
    "    elif bit_criteria == 'least':\n",
    "        bit_value = abs(1-most_common_bit) # flip 1 to 0, and 0 to 1\n",
    "    for row in rows:\n",
    "        if row[col_idx]==bit_value:\n",
    "            keep_row.append(list(row))\n",
    "    return np.array(keep_row)\n",
    "\n",
    "def array_of_bits_to_decimal(arr):\n",
    "    new_string = ''\n",
    "    for x in arr:\n",
    "        new_string += str(x)\n",
    "    return int(new_string, 2)"
   ]
  },
  {
   "cell_type": "code",
   "execution_count": 10,
   "id": "endless-summer",
   "metadata": {},
   "outputs": [
    {
     "name": "stdout",
     "output_type": "stream",
     "text": [
      "Part 2:  7863147\n"
     ]
    }
   ],
   "source": [
    "nrows, ncols = np.shape(d)\n",
    "\n",
    "rows = d\n",
    "for col in range(0, ncols):\n",
    "    rows = new_rows(rows, col, 'most')\n",
    "    if len(rows) == 1:\n",
    "        break\n",
    "O2_gen_rating = array_of_bits_to_decimal(rows[0])\n",
    "\n",
    "rows = d\n",
    "for col in range(0, ncols):\n",
    "    rows = new_rows(rows, col, 'least')\n",
    "    if len(rows) == 1:\n",
    "        break\n",
    "CO2_scrubber_rating = array_of_bits_to_decimal(rows[0])\n",
    "\n",
    "p2 = O2_gen_rating * CO2_scrubber_rating\n",
    "print('Part 2: ', p2)"
   ]
  },
  {
   "cell_type": "markdown",
   "id": "experienced-trunk",
   "metadata": {},
   "source": [
    "# --- Day 4: Giant Squid ---"
   ]
  },
  {
   "cell_type": "code",
   "execution_count": 11,
   "id": "great-tourism",
   "metadata": {},
   "outputs": [
    {
     "data": {
      "text/plain": [
       "array([59, 91, 13, 82,  8, 32, 74, 96, 55, 51, 19, 47, 46, 44,  5, 21, 95,\n",
       "       71, 48, 60, 68, 81, 80, 14, 23, 28, 26, 78, 12, 22, 49,  1, 83, 88,\n",
       "       39, 53, 84, 37, 93, 24, 42,  7, 56, 20, 92, 90, 25, 36, 34, 52, 27,\n",
       "       50, 85, 75, 89, 63, 33,  4, 66, 17, 98, 57,  3,  9, 54,  0, 94, 29,\n",
       "       79, 61, 45, 86, 16, 30, 77, 76,  6, 38, 70, 62, 72, 43, 69, 35, 18,\n",
       "       97, 73, 41, 40, 64, 67, 31, 58, 11, 15, 87, 65,  2, 10, 99])"
      ]
     },
     "execution_count": 11,
     "metadata": {},
     "output_type": "execute_result"
    }
   ],
   "source": [
    "puzzle_input = 'data/aoc2021_day4.txt'\n",
    "draw_numbers = np.loadtxt(puzzle_input, dtype='int', delimiter = ',',max_rows=1)\n",
    "draw_numbers"
   ]
  },
  {
   "cell_type": "code",
   "execution_count": 12,
   "id": "prime-archives",
   "metadata": {},
   "outputs": [
    {
     "data": {
      "text/plain": [
       "array([[42, 47, 77, 49, 67],\n",
       "       [64, 82, 32, 94, 78],\n",
       "       [96, 62, 45, 11, 43],\n",
       "       [55, 92, 81, 66, 88],\n",
       "       [12, 95, 19, 24, 71]])"
      ]
     },
     "execution_count": 12,
     "metadata": {},
     "output_type": "execute_result"
    }
   ],
   "source": [
    "# Read into separate boards\n",
    "boards = []\n",
    "with open(puzzle_input) as f:\n",
    "    next(f) # Skip the first row of draw_numbers\n",
    "    for line in f:\n",
    "        if line != '\\n':\n",
    "            row = [int(s) for s in line.split()]\n",
    "            boards.append(row)\n",
    "boards=np.array(boards)\n",
    "nboards = int(np.shape(boards)[0]/5)\n",
    "boards = np.split(boards, nboards)\n",
    "boards[0]"
   ]
  },
  {
   "cell_type": "code",
   "execution_count": 13,
   "id": "purple-currency",
   "metadata": {},
   "outputs": [],
   "source": [
    "def check_bingo(draw_board): # draw_board = draws[0], draws[1] etc.\n",
    "    \"\"\"Return 1 if a full row or full column equals 1\"\"\"\n",
    "    nrow, ncol = np.shape(draw_board)\n",
    "    for row in range(0,nrow):\n",
    "        if np.sum(draw_board[row])==nrow:\n",
    "            return 1\n",
    "    for col in range(0,ncol):\n",
    "        if np.sum(draw_board[:, col])==ncol:\n",
    "            return 1\n",
    "    return 0"
   ]
  },
  {
   "cell_type": "code",
   "execution_count": 14,
   "id": "median-surgery",
   "metadata": {},
   "outputs": [
    {
     "name": "stdout",
     "output_type": "stream",
     "text": [
      "Bingo!\n",
      "41\n",
      "60\n"
     ]
    }
   ],
   "source": [
    "# Initialize a bingo array\n",
    "draws = np.zeros(np.shape(boards))\n",
    "break_outer_loop = False\n",
    "for number in draw_numbers:\n",
    "    if break_outer_loop:\n",
    "        break\n",
    "    for x in range(0, len(boards)):\n",
    "        draws[x][boards[x] == number] = 1\n",
    "        if check_bingo(draws[x]):\n",
    "            print('Bingo!')\n",
    "            final_number = number\n",
    "            board_number = x\n",
    "            break_outer_loop = True\n",
    "            break\n",
    "print(board_number)\n",
    "print(final_number)"
   ]
  },
  {
   "cell_type": "code",
   "execution_count": 15,
   "id": "known-three",
   "metadata": {},
   "outputs": [
    {
     "name": "stdout",
     "output_type": "stream",
     "text": [
      "Part 1:  46920\n"
     ]
    }
   ],
   "source": [
    "sum_unmarked=sum(boards[board_number][draws[board_number]==0])\n",
    "p1 = sum_unmarked * final_number\n",
    "print('Part 1: ', p1)"
   ]
  },
  {
   "cell_type": "code",
   "execution_count": 16,
   "id": "superb-adobe",
   "metadata": {},
   "outputs": [
    {
     "name": "stdout",
     "output_type": "stream",
     "text": [
      "Last board!\n",
      "29\n",
      "35\n"
     ]
    }
   ],
   "source": [
    "# Part 2, find the last board to win\n",
    "finished_boards = set()\n",
    "draws = np.zeros(np.shape(boards))\n",
    "break_outer_loop = False\n",
    "for number in draw_numbers:\n",
    "    if break_outer_loop:\n",
    "        break\n",
    "    for x in range(0, len(boards)):\n",
    "        draws[x][boards[x] == number] = 1\n",
    "        if check_bingo(draws[x]):  \n",
    "            finished_boards.add(x)\n",
    "            if len(finished_boards) == nboards:\n",
    "                print('Last board!')\n",
    "                break_outer_loop = True\n",
    "                final_number = number\n",
    "                board_number = x\n",
    "                break\n",
    "print(board_number)\n",
    "print(final_number)"
   ]
  },
  {
   "cell_type": "code",
   "execution_count": 17,
   "id": "multiple-nelson",
   "metadata": {},
   "outputs": [
    {
     "name": "stdout",
     "output_type": "stream",
     "text": [
      "Part 2:  12635\n"
     ]
    }
   ],
   "source": [
    "sum_unmarked=sum(boards[board_number][draws[board_number]==0])\n",
    "p2 = sum_unmarked * final_number\n",
    "print('Part 2: ', p2)"
   ]
  },
  {
   "cell_type": "markdown",
   "id": "excessive-senegal",
   "metadata": {},
   "source": [
    "# --- Day 5: Hydrothermal Venture ---\n",
    "```\n",
    "0,9 -> 5,9\n",
    "8,0 -> 0,8\n",
    "9,4 -> 3,4\n",
    "```"
   ]
  },
  {
   "cell_type": "code",
   "execution_count": 18,
   "id": "balanced-proposition",
   "metadata": {},
   "outputs": [
    {
     "data": {
      "text/plain": [
       "[[72, 504, 422, 154],\n",
       " [877, 851, 680, 654],\n",
       " [447, 989, 517, 989],\n",
       " [173, 125, 981, 933],\n",
       " [736, 255, 374, 617],\n",
       " [835, 681, 693, 539],\n",
       " [451, 176, 451, 885],\n",
       " [793, 629, 793, 157],\n",
       " [907, 945, 47, 85],\n",
       " [868, 104, 892, 104]]"
      ]
     },
     "execution_count": 18,
     "metadata": {},
     "output_type": "execute_result"
    }
   ],
   "source": [
    "#puzzle_input = 'data/test.txt'\n",
    "puzzle_input = 'data/aoc2021_day5.txt'\n",
    "lines = []\n",
    "with open(puzzle_input) as f:\n",
    "    for line in f:\n",
    "        vent_lines = line.replace(' -> ', ',').strip().split(',')\n",
    "        lines.append([int(x) for x in vent_lines])\n",
    "lines[:10]"
   ]
  },
  {
   "cell_type": "code",
   "execution_count": 19,
   "id": "awful-album",
   "metadata": {},
   "outputs": [],
   "source": [
    "def points_covered(p1, p2):\n",
    "    \"\"\"Given a line segment from p1 to p2, return all points covered\"\"\"\n",
    "    # Ugly function, but it works..\n",
    "    row = p2[0]-p1[0]\n",
    "    col = p2[1]-p1[1]\n",
    "    angle = math.degrees(math.atan2(p2[0]-p1[0],p2[1]-p1[1]))\n",
    "    if angle == 0 or abs(angle) == 90 or abs(angle) == 180:\n",
    "        pts = []\n",
    "        if row == 0:\n",
    "            if col>0:\n",
    "                for x in range(p1[1], p2[1]+1):\n",
    "                    pts.append([p1[0], x])\n",
    "            else:\n",
    "                for x in range(p2[1], p1[1]+1):\n",
    "                    pts.append([p1[0], x])\n",
    "        elif col == 0:\n",
    "            if row > 0:\n",
    "                for x in range(p1[0], p2[0]+1):\n",
    "                    pts.append([x, p1[1]])\n",
    "            else:\n",
    "                for x in range(p2[0], p1[0]+1):\n",
    "                    pts.append([x, p1[1]])\n",
    "        return pts\n",
    "                \n",
    "    if angle == -45:\n",
    "        t1 = list(range(p2[0]+1, p1[0]+1))\n",
    "        t2 = list(reversed(range(p1[1],p2[1])))\n",
    "    elif angle == 135:\n",
    "        t1 = list(range(p1[0], p2[0]))\n",
    "        t2 = list(reversed(range(p2[1]+1,p1[1]+1)))\n",
    "    elif angle == 45:\n",
    "        t1 = list(range(p1[0], p2[0]))\n",
    "        t2 = list(range(p1[1],p2[1]))\n",
    "    elif angle==-135:\n",
    "        t1 = list(range(p1[0], p2[0], -1))\n",
    "        t2 = list(range(p1[1],p2[1], -1))\n",
    "\n",
    "    pts=[p2]\n",
    "    for x in zip(t1,t2):\n",
    "        pts.append(x)\n",
    "    return pts\n",
    "\n",
    "def fill_diagram(diagram, pts):\n",
    "    \"\"\"Fill a diagram with points\"\"\"\n",
    "    for p in pts:\n",
    "        diagram[p[0], p[1]] += 1\n",
    "    return diagram"
   ]
  },
  {
   "cell_type": "code",
   "execution_count": 20,
   "id": "sound-iceland",
   "metadata": {},
   "outputs": [
    {
     "name": "stdout",
     "output_type": "stream",
     "text": [
      "[[0. 0. 0. ... 0. 0. 0.]\n",
      " [0. 0. 0. ... 0. 0. 0.]\n",
      " [0. 0. 0. ... 0. 0. 0.]\n",
      " ...\n",
      " [0. 0. 0. ... 0. 0. 0.]\n",
      " [0. 0. 0. ... 0. 0. 0.]\n",
      " [0. 0. 0. ... 0. 0. 0.]]\n",
      "Part 1:  6666\n"
     ]
    }
   ],
   "source": [
    "# PART 1 -------------------\n",
    "\n",
    "# Initialise a diagram to count overlapping lines\n",
    "diagram = np.zeros([np.max(lines)+1,np.max(lines)+1])\n",
    "\n",
    "straight_lines = []\n",
    "for line in lines:\n",
    "    if line[0]==line[2] or line[1]==line[3]:\n",
    "        straight_lines.append(line)\n",
    "\n",
    "for line in straight_lines:\n",
    "    p1 = line[0:2]\n",
    "    p2 = line[2:]\n",
    "    pts = points_covered(p1,p2)\n",
    "    diagram = fill_diagram(diagram, pts)\n",
    "print(diagram)\n",
    "print('Part 1: ', np.sum(diagram>1))"
   ]
  },
  {
   "cell_type": "code",
   "execution_count": 21,
   "id": "horizontal-iceland",
   "metadata": {},
   "outputs": [
    {
     "name": "stdout",
     "output_type": "stream",
     "text": [
      "Part 2:  19081\n"
     ]
    }
   ],
   "source": [
    "# PART 2 -------------------\n",
    "# This time include both straight lines and angled lines\n",
    "diagram = np.zeros([np.max(lines)+1,np.max(lines)+1])\n",
    "for line in lines:\n",
    "    p1 = line[0:2]\n",
    "    p2 = line[2:]\n",
    "    pts = points_covered(p1,p2)\n",
    "    diagram = fill_diagram(diagram, pts)\n",
    "print('Part 2: ', np.sum(diagram>1))"
   ]
  },
  {
   "cell_type": "code",
   "execution_count": 22,
   "id": "numerous-fields",
   "metadata": {},
   "outputs": [],
   "source": [
    "# DEBUG (use this on the test data to find errors)\n",
    "for line in lines:\n",
    "    p1 = line[0:2]\n",
    "    p2 = line[2:]\n",
    "    angle = math.degrees(math.atan2(p2[0]-p1[0],p2[1]-p1[1]))\n",
    "    #print(angle)\n",
    "    pts = points_covered(p1,p2)\n",
    "    #print('Line: {}'.format(line))\n",
    "    #print(pts)"
   ]
  },
  {
   "cell_type": "markdown",
   "id": "alone-health",
   "metadata": {},
   "source": [
    "# --- Day 6: Lanternfish ---\n",
    "```\n",
    "Initial state: 3,4,3,1,2\n",
    "After  1 day:  2,3,2,0,1\n",
    "After  2 days: 1,2,1,6,0,8\n",
    "After  3 days: 0,1,0,5,6,7,8\n",
    "After  4 days: 6,0,6,4,5,6,7,8,8\n",
    "```"
   ]
  },
  {
   "cell_type": "code",
   "execution_count": 23,
   "id": "divine-baghdad",
   "metadata": {},
   "outputs": [
    {
     "data": {
      "text/plain": [
       "[1, 1, 3, 5, 1, 3, 2, 1, 5, 3]"
      ]
     },
     "execution_count": 23,
     "metadata": {},
     "output_type": "execute_result"
    }
   ],
   "source": [
    "#puzzle_input = 'data/aoc2021_day7_test.txt'\n",
    "puzzle_input = 'data/aoc2021_day6.txt'\n",
    "fish = list(np.loadtxt(puzzle_input, dtype='int', delimiter = ','))\n",
    "fish[0:10]"
   ]
  },
  {
   "cell_type": "code",
   "execution_count": 24,
   "id": "numerous-rating",
   "metadata": {},
   "outputs": [
    {
     "name": "stdout",
     "output_type": "stream",
     "text": [
      "Part 1:  360610\n"
     ]
    }
   ],
   "source": [
    "# This function works fine for Part 1 (80 days), \n",
    "# but uses too much memory for Part 2 (256 days)\n",
    "def spawn():\n",
    "    a = fish\n",
    "    while True:\n",
    "        a, b = [6 if x == 0 else x-1 for x in a], [8 for x in a if x == 0]\n",
    "        yield a+b\n",
    "        a = a+b  # Add new fishes (b) to existing fishes (a)\n",
    "\n",
    "#list(itertools.islice(spawn(), 34)) # print example output\n",
    "p1 = len(list(itertools.islice(spawn(), 80))[-1])\n",
    "print('Part 1: ', p1)"
   ]
  },
  {
   "cell_type": "code",
   "execution_count": 25,
   "id": "unavailable-messaging",
   "metadata": {},
   "outputs": [
    {
     "data": {
      "text/plain": [
       "(20, 7, [4, 6, 6, 1, 6, 8, 8])"
      ]
     },
     "execution_count": 25,
     "metadata": {},
     "output_type": "execute_result"
    }
   ],
   "source": [
    "# For Part 2, modify the spawn function and use an alternative approach\n",
    "def spawn(i):\n",
    "    \"\"\"Find the number of fishes created by a 'fish number' i=1,2,3,4,5\"\"\"\n",
    "    a = [i]\n",
    "    day = 0\n",
    "    while True:\n",
    "        day += 1\n",
    "        a, b = [6 if x == 0 else x-1 for x in a], [8 for x in a if x == 0]\n",
    "        yield day, sum(1 for dummy in a+b), a+b\n",
    "        a = a+b  # Add new fishes (b) to existing fishes (a)\n",
    "\n",
    "# Example, for a fish with 3 days until spawning, this fish will have created\n",
    "# 7 new fish after 20 days (one of these will have the number 1, one will have the\n",
    "# number 4, three will have the number 6 and two will have the number 8)\n",
    "for day, n_fishes, list_fishes in spawn(3):\n",
    "        if day == 20:\n",
    "            break\n",
    "day, n_fishes, list_fishes"
   ]
  },
  {
   "cell_type": "markdown",
   "id": "comprehensive-velvet",
   "metadata": {},
   "source": [
    "The above function becomes slow for day ~ 220. Hence it is first calculated how many fishes there will be after 156 days, and then it is calculated how many fishes these will produce after 100 days. In total it is thus calculated how many fishes there will be after 256 days."
   ]
  },
  {
   "cell_type": "code",
   "execution_count": 26,
   "id": "plastic-commitment",
   "metadata": {},
   "outputs": [
    {
     "data": {
      "text/plain": [
       "{1: {6: 127909,\n",
       "  1: 126808,\n",
       "  3: 168344,\n",
       "  5: 186314,\n",
       "  0: 81567,\n",
       "  2: 70737,\n",
       "  4: 81396,\n",
       "  7: 93709,\n",
       "  8: 80581},\n",
       " 2: {0: 80581,\n",
       "  2: 126808,\n",
       "  4: 168344,\n",
       "  6: 186314,\n",
       "  1: 81567,\n",
       "  3: 70737,\n",
       "  5: 81396,\n",
       "  7: 47328,\n",
       "  8: 93709},\n",
       " 3: {1: 80581,\n",
       "  3: 126808,\n",
       "  5: 168344,\n",
       "  0: 93709,\n",
       "  2: 81567,\n",
       "  4: 70737,\n",
       "  6: 81396,\n",
       "  7: 92605,\n",
       "  8: 47328},\n",
       " 4: {2: 80581,\n",
       "  4: 126808,\n",
       "  6: 168344,\n",
       "  1: 93709,\n",
       "  3: 81567,\n",
       "  5: 70737,\n",
       "  0: 47328,\n",
       "  7: 34068,\n",
       "  8: 92605},\n",
       " 5: {3: 80581,\n",
       "  5: 126808,\n",
       "  0: 92605,\n",
       "  2: 93709,\n",
       "  4: 81567,\n",
       "  6: 70737,\n",
       "  1: 47328,\n",
       "  7: 75739,\n",
       "  8: 34068}}"
      ]
     },
     "execution_count": 26,
     "metadata": {},
     "output_type": "execute_result"
    }
   ],
   "source": [
    "# For the 5 'fish numbers', find how many fish each of these will create after X days\n",
    "fish_count = {}\n",
    "for f in [1,2,3,4,5]:\n",
    "    for day, n_fishes, list_fishes in spawn(f):\n",
    "        if day == 156:\n",
    "            break\n",
    "    counter=collections.Counter(list_fishes)\n",
    "    fish_count[f]=dict(counter)\n",
    "fish_count"
   ]
  },
  {
   "cell_type": "code",
   "execution_count": 27,
   "id": "upset-dragon",
   "metadata": {},
   "outputs": [
    {
     "data": {
      "text/plain": [
       "[8492, 7776, 6983, 6686, 5762, 5629, 4837, 4659, 4164]"
      ]
     },
     "execution_count": 27,
     "metadata": {},
     "output_type": "execute_result"
    }
   ],
   "source": [
    "# Calculate how many fish that will be created per fish number for the remaining days\n",
    "list_last_fishes = []\n",
    "for f in [0,1,2,3,4,5,6,7,8]:\n",
    "    for day, n_fishes, list_fishes in spawn(f):\n",
    "        #print(day, n_fishes, list_fishes)\n",
    "        if day == 100:\n",
    "            break\n",
    "    list_last_fishes.append(n_fishes)\n",
    "list_last_fishes # Element 0 is for fish number 0, element 1 is for fish number 1 etc."
   ]
  },
  {
   "cell_type": "code",
   "execution_count": 28,
   "id": "christian-flower",
   "metadata": {},
   "outputs": [
    {
     "data": {
      "text/plain": [
       "{1: 6206821033, 2: 5617089148, 3: 5217223242, 4: 4726100874, 5: 4368232009}"
      ]
     },
     "execution_count": 28,
     "metadata": {},
     "output_type": "execute_result"
    }
   ],
   "source": [
    "# Calculate the total number of fishes\n",
    "def calc_sum(fish_count, list_last_fishes):\n",
    "    sum_fishes = 0\n",
    "    for i in range(0,8+1):\n",
    "        try:\n",
    "            sum_fishes += fish_count[i]*list_last_fishes[i]\n",
    "        except KeyError:\n",
    "            continue\n",
    "    return sum_fishes\n",
    "\n",
    "sum_per_number = {}\n",
    "for k, v in fish_count.items():\n",
    "    sum_per_number[k]=calc_sum(v, list_last_fishes)\n",
    "sum_per_number"
   ]
  },
  {
   "cell_type": "code",
   "execution_count": 29,
   "id": "legislative-legislation",
   "metadata": {},
   "outputs": [
    {
     "name": "stdout",
     "output_type": "stream",
     "text": [
      "{1: 117, 3: 41, 5: 50, 2: 43, 4: 49}\n",
      "Part 2:  1631629590423\n"
     ]
    }
   ],
   "source": [
    "# Find the total number of fishes for all the input numbers\n",
    "input_count=dict(collections.Counter(fish))\n",
    "print(input_count)\n",
    "total_sum = 0\n",
    "for i in [1,2,3,4,5]:\n",
    "        try:\n",
    "            total_sum += input_count[i]*sum_per_number[i]\n",
    "        except KeyError:\n",
    "            continue\n",
    "print('Part 2: ', total_sum)"
   ]
  },
  {
   "cell_type": "markdown",
   "id": "hawaiian-segment",
   "metadata": {},
   "source": [
    "# --- Day 7: The Treachery of Whales ---\n",
    "```\n",
    "16,1,2,0,4,2,7,1,2,14\n",
    "```"
   ]
  },
  {
   "cell_type": "code",
   "execution_count": 30,
   "id": "separate-settle",
   "metadata": {},
   "outputs": [
    {
     "data": {
      "text/plain": [
       "array([1101,    1,   29,   67, 1102,    0,    1,   65, 1008,   65])"
      ]
     },
     "execution_count": 30,
     "metadata": {},
     "output_type": "execute_result"
    }
   ],
   "source": [
    "#puzzle_input = 'data/test.txt'\n",
    "puzzle_input = 'data/aoc2021_day7.txt'\n",
    "pos = np.loadtxt(puzzle_input, dtype='int', delimiter = ',')\n",
    "pos[0:10]"
   ]
  },
  {
   "cell_type": "code",
   "execution_count": 31,
   "id": "corrected-wilderness",
   "metadata": {},
   "outputs": [
    {
     "name": "stdout",
     "output_type": "stream",
     "text": [
      "Part 1:  341558\n"
     ]
    }
   ],
   "source": [
    "# Part 1\n",
    "min_cost = 999999999999999999\n",
    "for x in range(min(pos), max(pos)+1):\n",
    "    cost = sum(np.abs(pos-x))\n",
    "    if cost < min_cost:\n",
    "        min_cost = cost\n",
    "print('Part 1: ', min_cost)"
   ]
  },
  {
   "cell_type": "code",
   "execution_count": 32,
   "id": "approximate-principal",
   "metadata": {},
   "outputs": [
    {
     "data": {
      "text/plain": [
       "45"
      ]
     },
     "execution_count": 32,
     "metadata": {},
     "output_type": "execute_result"
    }
   ],
   "source": [
    "def firstn(n):\n",
    "    num = 0\n",
    "    while num < n:\n",
    "        num += 1\n",
    "        yield num\n",
    "        \n",
    "sum(firstn(9)) # 1+2+3+4+5+6+7+8+9"
   ]
  },
  {
   "cell_type": "code",
   "execution_count": 33,
   "id": "protective-microphone",
   "metadata": {},
   "outputs": [
    {
     "name": "stdout",
     "output_type": "stream",
     "text": [
      "Part 2:  93214037\n"
     ]
    }
   ],
   "source": [
    "# Part 2\n",
    "min_cost = 999999999999999999\n",
    "for x in range(0, max(pos)+1):\n",
    "    delta = np.abs(pos-x)\n",
    "    new_cost = 0\n",
    "    for y in delta:\n",
    "        new_cost+=sum(firstn(y))\n",
    "    if new_cost < min_cost:\n",
    "        min_cost = new_cost\n",
    "print('Part 2: ', min_cost)"
   ]
  }
 ],
 "metadata": {
  "kernelspec": {
   "display_name": "Python 3",
   "language": "python",
   "name": "python3"
  },
  "language_info": {
   "codemirror_mode": {
    "name": "ipython",
    "version": 3
   },
   "file_extension": ".py",
   "mimetype": "text/x-python",
   "name": "python",
   "nbconvert_exporter": "python",
   "pygments_lexer": "ipython3",
   "version": "3.6.9"
  }
 },
 "nbformat": 4,
 "nbformat_minor": 5
}
