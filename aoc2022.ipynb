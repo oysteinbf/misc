{
 "cells": [
  {
   "cell_type": "markdown",
   "id": "8fcd2afa-80a6-470f-8126-8a8274b8be20",
   "metadata": {
    "tags": []
   },
   "source": [
    "# [Advent of Code 2022](https://adventofcode.com/2022)\n",
    "\n",
    "Oppsett med poetry:\n",
    "\n",
    "``` bash\n",
    "$ poetry init\n",
    "$ poetry add numpy # legg til det som trengs\n",
    "$ poetry add -D jupyter # kun bibliotek for utvikling\n",
    "\n",
    "$ poetry run jupyter lab\n",
    "```\n",
    "NB: Trøbbel når nye pakker skal installeres; likner på [dette](https://stackoverflow.com/questions/72390724/modulenotfounderror-in-poetry-installed-ipython-kernel)"
   ]
  },
  {
   "cell_type": "code",
   "execution_count": 1,
   "id": "bc10be72-7138-4dff-8c85-1d78ca0d0dc2",
   "metadata": {},
   "outputs": [],
   "source": [
    "import numpy as np\n",
    "from collections import deque\n",
    "import re\n",
    "from itertools import islice"
   ]
  },
  {
   "cell_type": "markdown",
   "id": "39847978-5d43-4e7f-a9ff-7bf882a36437",
   "metadata": {
    "tags": []
   },
   "source": [
    "# --- Day 1: Calorie Counting ---"
   ]
  },
  {
   "cell_type": "code",
   "execution_count": 2,
   "id": "17c7786a-76e1-48b5-b046-9264fc4d546e",
   "metadata": {},
   "outputs": [
    {
     "data": {
      "text/plain": [
       "[[15560, 3906, 7076, 11980, 11508],\n",
       " [6558, 2256, 7294, 6566, 2686, 2566, 1724, 4811, 5427, 4278, 3756],\n",
       " [3761, 5599, 13187, 12558, 7425, 9269]]"
      ]
     },
     "execution_count": 2,
     "metadata": {},
     "output_type": "execute_result"
    }
   ],
   "source": [
    "#puzzle_input = 'data/test.txt'\n",
    "puzzle_input = 'data/aoc2022_day1.txt'\n",
    "with open(puzzle_input) as f:\n",
    "    data = []\n",
    "    elf = []\n",
    "    for line in f:\n",
    "        if line != '\\n':\n",
    "            elf.append(int(line))\n",
    "        else:\n",
    "            data.append(elf)\n",
    "            elf = []\n",
    "    data.append(elf)\n",
    "data[:3]"
   ]
  },
  {
   "cell_type": "code",
   "execution_count": 3,
   "id": "dd04f0ec-ae97-4031-b996-27322ad3e9a9",
   "metadata": {},
   "outputs": [
    {
     "data": {
      "text/plain": [
       "69528"
      ]
     },
     "execution_count": 3,
     "metadata": {},
     "output_type": "execute_result"
    }
   ],
   "source": [
    "# Part 1\n",
    "# Find the total calories of the Elf carrying the most Calories. \n",
    "sums = [sum(x) for x in data]\n",
    "max(sums)"
   ]
  },
  {
   "cell_type": "code",
   "execution_count": 4,
   "id": "3945feac-dc28-4c55-bc3d-4b709420cc2d",
   "metadata": {},
   "outputs": [
    {
     "data": {
      "text/plain": [
       "206152"
      ]
     },
     "execution_count": 4,
     "metadata": {},
     "output_type": "execute_result"
    }
   ],
   "source": [
    "# Part 2\n",
    "# Find the sum of calories of top three Elves carrying the most Calories. \n",
    "sum(sorted(sums)[-3:])"
   ]
  },
  {
   "cell_type": "code",
   "execution_count": 5,
   "id": "a22443a3-516a-409b-87e6-e7f3b795ae0d",
   "metadata": {},
   "outputs": [
    {
     "name": "stdout",
     "output_type": "stream",
     "text": [
      "Part 1: 69528 \n",
      "Part 2: 206152\n"
     ]
    }
   ],
   "source": [
    "# Alternative solution (from AOC-thread on reddit)\n",
    "print(\"Part 1:\", max(weights := list(map(lambda elf: sum(map(int, elf.split(\"\\n\")))\n",
    "                , open(puzzle_input).read().strip().split(\"\\n\\n\")))), \n",
    "      \"\\nPart 2:\", sum(sorted(weights)[-3:]))"
   ]
  },
  {
   "cell_type": "code",
   "execution_count": 6,
   "id": "f23a7020-288e-47e6-8fbc-0d9af39dbb0c",
   "metadata": {},
   "outputs": [
    {
     "data": {
      "text/plain": [
       "[101, 103, 105, 106]"
      ]
     },
     "execution_count": 6,
     "metadata": {},
     "output_type": "execute_result"
    }
   ],
   "source": [
    "# Map example\n",
    "def yolo(x):\n",
    "    return x+100\n",
    "foo=[1,3,5,6]\n",
    "list(map(lambda x: yolo(x), foo))"
   ]
  },
  {
   "cell_type": "markdown",
   "id": "5934ec18-457e-448f-8385-2bc134ec8957",
   "metadata": {
    "tags": []
   },
   "source": [
    "# --- Day 2: Rock Paper Scissors ---\n",
    "Opponent: A for Rock, B for Paper, and C for Scissors\n",
    "\n",
    "You: X for Rock (1 point), Y for Paper (2 points), and Z for Scissors (3 points)\n",
    "\n",
    "Game outcome scores: Loss=0, Draw=3, Win=6"
   ]
  },
  {
   "cell_type": "code",
   "execution_count": 7,
   "id": "4d414079-8662-4c86-aaa2-32ebb94a9229",
   "metadata": {},
   "outputs": [
    {
     "data": {
      "text/plain": [
       "array([['B', 'X'],\n",
       "       ['B', 'Y'],\n",
       "       ['A', 'Y'],\n",
       "       ['B', 'Y'],\n",
       "       ['B', 'Y']], dtype='<U1')"
      ]
     },
     "execution_count": 7,
     "metadata": {},
     "output_type": "execute_result"
    }
   ],
   "source": [
    "data = np.genfromtxt('data/aoc2022_day2.txt', dtype=str, delimiter=' ')\n",
    "data[0:5]"
   ]
  },
  {
   "cell_type": "code",
   "execution_count": 8,
   "id": "b2fd3dfe-1718-494e-b865-ea8f48860b3b",
   "metadata": {},
   "outputs": [],
   "source": [
    "def score(opponent_play, my_play):\n",
    "    if my_play == 'X':\n",
    "        shape_score = 1\n",
    "        if opponent_play == 'A':\n",
    "            game_score = 3\n",
    "        elif opponent_play == 'B':\n",
    "            game_score = 0\n",
    "        elif opponent_play == 'C':\n",
    "            game_score = 6\n",
    "    elif my_play == 'Y':\n",
    "        shape_score = 2\n",
    "        if opponent_play == 'A':\n",
    "            game_score = 6\n",
    "        elif opponent_play == 'B':\n",
    "            game_score = 3\n",
    "        elif opponent_play == 'C':\n",
    "            game_score = 0\n",
    "    elif my_play == 'Z':\n",
    "        shape_score = 3\n",
    "        if opponent_play == 'A':\n",
    "            game_score = 0\n",
    "        elif opponent_play == 'B':\n",
    "            game_score = 6\n",
    "        elif opponent_play == 'C':\n",
    "            game_score = 3\n",
    "    return shape_score + game_score"
   ]
  },
  {
   "cell_type": "code",
   "execution_count": 9,
   "id": "7e9d18ff-f95f-4c7b-a3d0-0d2ae469e48a",
   "metadata": {},
   "outputs": [
    {
     "data": {
      "text/plain": [
       "15691"
      ]
     },
     "execution_count": 9,
     "metadata": {},
     "output_type": "execute_result"
    }
   ],
   "source": [
    "# Part 1\n",
    "total_score = 0\n",
    "for game in data:\n",
    "    total_score+= score(game[0], game[1])\n",
    "total_score"
   ]
  },
  {
   "cell_type": "markdown",
   "id": "6cbe7057-f44c-4d58-b90a-6ccbf1e36a7b",
   "metadata": {},
   "source": [
    "Part 2: \n",
    "\n",
    "X means you need to lose, Y means you need to end the round in a draw, and Z means you need to win"
   ]
  },
  {
   "cell_type": "code",
   "execution_count": 10,
   "id": "15fd745e-0594-4aed-9d4b-650cd69a8315",
   "metadata": {},
   "outputs": [
    {
     "data": {
      "text/plain": [
       "12989"
      ]
     },
     "execution_count": 10,
     "metadata": {},
     "output_type": "execute_result"
    }
   ],
   "source": [
    "def score_part2(opponent_play, outcome):\n",
    "    if outcome == 'X':\n",
    "        game_score = 0\n",
    "        if opponent_play == 'A':\n",
    "            shape_score = 3\n",
    "        elif opponent_play == 'B':\n",
    "            shape_score = 1\n",
    "        elif opponent_play == 'C':\n",
    "            shape_score = 2\n",
    "    elif outcome == 'Y':\n",
    "        game_score = 3\n",
    "        if opponent_play == 'A':\n",
    "            shape_score = 1\n",
    "        elif opponent_play == 'B':\n",
    "            shape_score = 2\n",
    "        elif opponent_play == 'C':\n",
    "            shape_score = 3\n",
    "    elif outcome == 'Z':\n",
    "        game_score = 6\n",
    "        if opponent_play == 'A':\n",
    "            shape_score = 2\n",
    "        elif opponent_play == 'B':\n",
    "            shape_score = 3\n",
    "        elif opponent_play == 'C':\n",
    "            shape_score = 1\n",
    "    return shape_score + game_score\n",
    "\n",
    "total_score = 0\n",
    "for game in data:\n",
    "    total_score+= score_part2(game[0], game[1])\n",
    "total_score"
   ]
  },
  {
   "cell_type": "markdown",
   "id": "67fca3bb-e9d0-4555-b2ae-4c56a054dd31",
   "metadata": {
    "tags": []
   },
   "source": [
    "# --- Day 3: Rucksack Reorganization ---"
   ]
  },
  {
   "cell_type": "code",
   "execution_count": 11,
   "id": "ab41f4b8-4f54-4849-b592-69249b559e66",
   "metadata": {},
   "outputs": [
    {
     "data": {
      "text/plain": [
       "[48, 4, 26, 48, 34, 13, 40, 16, 4, 48]"
      ]
     },
     "execution_count": 11,
     "metadata": {},
     "output_type": "execute_result"
    }
   ],
   "source": [
    "#puzzle_input = 'data/test.txt'\n",
    "puzzle_input = 'data/aoc2022_day3.txt'\n",
    "with open(puzzle_input) as f:\n",
    "    data = []\n",
    "    for line in f:\n",
    "        # Convert to priorities, e.g. 'a'->1, 'z'->26, 'A'->27, 'Z'->52\n",
    "        priorities = [ord(x)-96 if ord(x) >= 97 else ord(x)-38 for x in list(line.strip())]\n",
    "        data.append(priorities)\n",
    "data[0][:10]"
   ]
  },
  {
   "cell_type": "code",
   "execution_count": 12,
   "id": "05c85e23-9c9e-4d37-aa05-21efb0fa94aa",
   "metadata": {},
   "outputs": [
    {
     "data": {
      "text/plain": [
       "[1, 2, 3, 26, 27, 28, 29, 52]"
      ]
     },
     "execution_count": 12,
     "metadata": {},
     "output_type": "execute_result"
    }
   ],
   "source": [
    "# ord(x) -> Return the Unicode code point for a one-character string\n",
    "# Example:\n",
    "[ord(x)-96 if ord(x) >= 97 else ord(x)-38 for x in list('abczABCZ')]"
   ]
  },
  {
   "cell_type": "code",
   "execution_count": 13,
   "id": "9a692eaf-67c2-4f3f-9e56-aae77293554f",
   "metadata": {},
   "outputs": [
    {
     "data": {
      "text/plain": [
       "8153"
      ]
     },
     "execution_count": 13,
     "metadata": {},
     "output_type": "execute_result"
    }
   ],
   "source": [
    "# Part 1\n",
    "# Find the item type that appears in both compartments of each rucksack. \n",
    "# What is the sum of the priorities of those item types?\n",
    "common_items = []\n",
    "for x in data:\n",
    "    length = int(len(x)/2)\n",
    "    compartment_1 = x[0:length]\n",
    "    compartment_2 = x[length:]\n",
    "    common_item = list(set(compartment_1) & set(compartment_2))\n",
    "    common_items.append(common_item[0])\n",
    "sum(common_items)"
   ]
  },
  {
   "cell_type": "code",
   "execution_count": 14,
   "id": "06aadb98-48f6-4c7f-a8c4-b31dcaa1d803",
   "metadata": {},
   "outputs": [
    {
     "data": {
      "text/plain": [
       "2342"
      ]
     },
     "execution_count": 14,
     "metadata": {},
     "output_type": "execute_result"
    }
   ],
   "source": [
    "# Part 2\n",
    "# Find the item type that corresponds to the badges of each three-Elf group. \n",
    "# What is the sum of the priorities of those item types?\n",
    "sum_group_items = 0\n",
    "for i in range(0, len(data), 3):\n",
    "    common_item = list(set(data[i]) & set(data[i+1]) & set(data[i+2]))\n",
    "    sum_group_items += common_item[0]\n",
    "sum_group_items"
   ]
  },
  {
   "cell_type": "markdown",
   "id": "5425ecbc-23d3-4453-b62d-75dac14326fb",
   "metadata": {},
   "source": [
    "# --- Day 4: Camp Cleanup ---"
   ]
  },
  {
   "cell_type": "code",
   "execution_count": 16,
   "id": "a05bc918-b008-48b0-9863-41364e94f663",
   "metadata": {},
   "outputs": [],
   "source": [
    "#puzzle_input = 'data/test.txt'\n",
    "puzzle_input = 'data/aoc2022_day4.txt'\n",
    "with open(puzzle_input) as f:\n",
    "    data = []\n",
    "    for line in f:\n",
    "        ranges = line.strip().split(',') # e.g. ['2-4', '6-8']\n",
    "        range1 = [int(x) for x in ranges[0].split('-')] #'e.g. [2, 4]\n",
    "        set1 = set(range(int(range1[0]), int(range1[1])+1)) # e.g. {2, 3, 4}\n",
    "        range2 = [int(x) for x in ranges[1].split('-')]\n",
    "        set2 = set(range(int(range2[0]), int(range2[1])+1))\n",
    "        data.append([set1, set2])\n",
    "        \n",
    "# data = [[{2, 3, 4}, {6, 7, 8}],\n",
    "#        [{2, 3}, {4, 5}], ...]"
   ]
  },
  {
   "cell_type": "code",
   "execution_count": 17,
   "id": "2186c2e6-a8da-44ea-b57b-24f2ad4d0a7c",
   "metadata": {},
   "outputs": [
    {
     "data": {
      "text/plain": [
       "532"
      ]
     },
     "execution_count": 17,
     "metadata": {},
     "output_type": "execute_result"
    }
   ],
   "source": [
    "# Part 1\n",
    "# In how many assignment pairs does one range fully contain the other?\n",
    "n_contained_pairs = 0\n",
    "for pair in data:\n",
    "    if pair[0].issubset(pair[1]) or pair[1].issubset(pair[0]):\n",
    "        n_contained_pairs += 1\n",
    "n_contained_pairs"
   ]
  },
  {
   "cell_type": "code",
   "execution_count": 18,
   "id": "f61c7391-0550-4784-9be4-508d463556d6",
   "metadata": {},
   "outputs": [
    {
     "data": {
      "text/plain": [
       "854"
      ]
     },
     "execution_count": 18,
     "metadata": {},
     "output_type": "execute_result"
    }
   ],
   "source": [
    "# Part 2\n",
    "# In how many assignment pairs do the ranges overlap?\n",
    "n_overlapped_pairs = 0\n",
    "for pair in data:\n",
    "    if len(pair[0].intersection(pair[1])) > 0:\n",
    "        n_overlapped_pairs += 1\n",
    "n_overlapped_pairs"
   ]
  },
  {
   "cell_type": "code",
   "execution_count": 19,
   "id": "263f98b4-1ce5-491d-887b-a973774d95a0",
   "metadata": {},
   "outputs": [
    {
     "name": "stdout",
     "output_type": "stream",
     "text": [
      "{4}\n",
      "False\n",
      "True\n"
     ]
    }
   ],
   "source": [
    "# Set examples:\n",
    "a = {2,3,4}\n",
    "b = {4,5,6}\n",
    "c = {4,5}\n",
    "print(a.intersection(b))\n",
    "print(c.issubset(a))\n",
    "print(c.issubset(b))"
   ]
  },
  {
   "cell_type": "markdown",
   "id": "5d49e1cf-c671-40e6-9829-2bbe705b8ad8",
   "metadata": {},
   "source": [
    "# --- Day 5: Supply Stacks ---\n",
    "\n",
    "Test data:\n",
    "```\n",
    "    [D]    \n",
    "[N] [C]    \n",
    "[Z] [M] [P]\n",
    " 1   2   3 \n",
    "\n",
    "move 1 from 2 to 1\n",
    "move 3 from 1 to 3\n",
    "move 2 from 2 to 1\n",
    "move 1 from 1 to 2\n",
    "```\n",
    "\n",
    "Python stack can be implemented using the deque class from the collections module. Deque is preferred over the list in the cases where we need quicker append and pop operations from both the ends of the container, as deque provides an O(1) time complexity for append and pop operations as compared to list which provides O(n) time complexity., ref. [geeksforgeeks](https://www.geeksforgeeks.org/stack-in-python/)."
   ]
  },
  {
   "cell_type": "code",
   "execution_count": 20,
   "id": "84eb7ba0-d8f5-43b4-9453-713e6e3c8436",
   "metadata": {},
   "outputs": [
    {
     "data": {
      "text/plain": [
       "['move 5 from 4 to 5',\n",
       " 'move 2 from 5 to 8',\n",
       " 'move 2 from 9 to 1',\n",
       " 'move 2 from 9 to 1',\n",
       " 'move 1 from 5 to 3']"
      ]
     },
     "execution_count": 20,
     "metadata": {},
     "output_type": "execute_result"
    }
   ],
   "source": [
    "#puzzle_input = 'data/test.txt'\n",
    "puzzle_input = 'data/aoc2022_day5.txt'\n",
    "with open(puzzle_input) as f:\n",
    "    procedures = []\n",
    "    for line in f:\n",
    "        if line.startswith('move'):\n",
    "            procedures.append(line.strip())\n",
    "procedures[:5]"
   ]
  },
  {
   "cell_type": "code",
   "execution_count": 23,
   "id": "ada76ade-ccb0-44d9-afda-e2bcc9e3e14a",
   "metadata": {},
   "outputs": [
    {
     "data": {
      "text/plain": [
       "[deque(['S', 'L', 'W']),\n",
       " deque(['J', 'T', 'N', 'Q']),\n",
       " deque(['S', 'C', 'H', 'F', 'J']),\n",
       " deque(['T', 'R', 'M', 'W', 'N', 'G', 'B']),\n",
       " deque(['T', 'R', 'L', 'S', 'D', 'H', 'Q', 'B']),\n",
       " deque(['M', 'J', 'B', 'V', 'F', 'H', 'R', 'L']),\n",
       " deque(['D', 'W', 'R', 'N', 'J', 'M']),\n",
       " deque(['B', 'Z', 'T', 'F', 'H', 'N', 'D', 'J']),\n",
       " deque(['H', 'L', 'Q', 'N', 'B', 'F', 'T'])]"
      ]
     },
     "execution_count": 23,
     "metadata": {},
     "output_type": "execute_result"
    }
   ],
   "source": [
    "# Parsing: Create a list of the stacks in the puzzle input\n",
    "stack_regex = re.compile('^  |^\\[[A-Z]*')\n",
    "with open(puzzle_input) as f:\n",
    "    data = []\n",
    "    for line in f:\n",
    "        line=line.replace('\\n', '')\n",
    "        if re.match(stack_regex, line):\n",
    "            stack_items = [line[i:i+1] for i in range(1, len(line), 4)]\n",
    "            stack_items.reverse()\n",
    "            data.append(stack_items)\n",
    "stack_data = list(map(list, zip(*data))) # transform list of lists\n",
    "# Add to stacks\n",
    "stack = []\n",
    "for f in reversed(stack_data):\n",
    "    stack_list = [x for x in f if x != ' '][::-1]\n",
    "    stack.append(deque(stack_list))\n",
    "stack"
   ]
  },
  {
   "cell_type": "code",
   "execution_count": 22,
   "id": "6358a656-2699-4aac-a884-0020b713555a",
   "metadata": {
    "tags": []
   },
   "outputs": [
    {
     "data": {
      "text/plain": [
       "'RLFNRTNFB'"
      ]
     },
     "execution_count": 22,
     "metadata": {},
     "output_type": "execute_result"
    }
   ],
   "source": [
    "# Part 1\n",
    "# After the rearrangement procedure completes, what crate ends up on top of each stack?\n",
    "for procedure in procedures:\n",
    "    n_crates, old, new = [int(x) for x in re.findall(r'\\d+', procedure)]\n",
    "    for c in range(1, n_crates+1):\n",
    "        crate = stack[old-1].pop()\n",
    "        stack[new-1].append(crate)\n",
    "        \n",
    "top_crates = ''\n",
    "for s in stack:\n",
    "    top_crates += s[-1]\n",
    "top_crates"
   ]
  },
  {
   "cell_type": "code",
   "execution_count": 24,
   "id": "9bffb201-a876-4ebe-a30d-d3f60c1650bc",
   "metadata": {},
   "outputs": [
    {
     "name": "stdout",
     "output_type": "stream",
     "text": [
      "MHQTLJRLB\n"
     ]
    }
   ],
   "source": [
    "# Part 2 (first rerun the parsing so that the list of stacks is recreated)\n",
    "# The crane now can pick up and move multiple crates at once\n",
    "# After the rearrangement procedure completes, what crate ends up on top of each stack?\n",
    "for procedure in procedures:\n",
    "    n_crates, old, new = [int(x) for x in re.findall(r'\\d+', procedure)]\n",
    "    temp_crate = []\n",
    "    for c in range(1, n_crates+1):\n",
    "        crate = stack[old-1].pop()\n",
    "        temp_crate.append(crate)\n",
    "    for tc in reversed(temp_crate):\n",
    "        stack[new-1].append(tc)\n",
    "        \n",
    "top_crates = ''\n",
    "for s in stack:\n",
    "    top_crates += s[-1]\n",
    "print(top_crates)"
   ]
  },
  {
   "cell_type": "markdown",
   "id": "a3de7040-0b23-4e2b-b0b9-7a9506b1ec00",
   "metadata": {
    "tags": []
   },
   "source": [
    "# --- Day 6: Tuning Trouble ---\n",
    "Part 1: The device will send your subroutine a datastream buffer (your puzzle input); your subroutine needs to identify the first position where the four most recently received characters were all different. Specifically, it needs to report the number of characters from the beginning of the buffer to the end of the first such four-character marker.\n",
    "\n",
    "https://docs.python.org/3/library/itertools.html#itertools.islice"
   ]
  },
  {
   "cell_type": "code",
   "execution_count": 25,
   "id": "3961ef30-c21d-4b56-993d-6f045aef8886",
   "metadata": {},
   "outputs": [
    {
     "data": {
      "text/plain": [
       "'bfdbbngnvnsvshhhrvrbrtbrrhqrqgrrmmdfmmqttptltntrntrnrcrdcrrc'"
      ]
     },
     "execution_count": 25,
     "metadata": {},
     "output_type": "execute_result"
    }
   ],
   "source": [
    "puzzle_input = 'data/aoc2022_day6.txt'\n",
    "with open(puzzle_input, 'r') as file:\n",
    "    s = file.read().rstrip()\n",
    "s[0:60]"
   ]
  },
  {
   "cell_type": "code",
   "execution_count": 26,
   "id": "8c8bb789-89f4-4a7a-9c98-f788a0b5c3f9",
   "metadata": {},
   "outputs": [
    {
     "name": "stdout",
     "output_type": "stream",
     "text": [
      "['d', 'r', 'h', 'm', 'c', 'q', 'w', 'v', 'n', 'b', 'f', 'z', 't', 's']\n",
      "Answer:  2301\n"
     ]
    }
   ],
   "source": [
    "window_size = 14  # Part 1: 4, Part 2: 14\n",
    "for i in range(0, len(s)):\n",
    "    window = list(islice(s, i,i+window_size))\n",
    "    if len(window) == len(set(window)):\n",
    "        print(window)\n",
    "        print('Answer: ', i+window_size)\n",
    "        break"
   ]
  },
  {
   "cell_type": "code",
   "execution_count": 27,
   "id": "54790e8f-c133-4e7d-910e-029dd9b77954",
   "metadata": {},
   "outputs": [
    {
     "data": {
      "text/plain": [
       "False"
      ]
     },
     "execution_count": 27,
     "metadata": {},
     "output_type": "execute_result"
    }
   ],
   "source": [
    "# Check for duplicates in list:\n",
    "a = [1, 2, 3, 1]\n",
    "len(a) == len(set(a))"
   ]
  }
 ],
 "metadata": {
  "kernelspec": {
   "display_name": "Python 3 (ipykernel)",
   "language": "python",
   "name": "python3"
  },
  "language_info": {
   "codemirror_mode": {
    "name": "ipython",
    "version": 3
   },
   "file_extension": ".py",
   "mimetype": "text/x-python",
   "name": "python",
   "nbconvert_exporter": "python",
   "pygments_lexer": "ipython3",
   "version": "3.8.10"
  }
 },
 "nbformat": 4,
 "nbformat_minor": 5
}
